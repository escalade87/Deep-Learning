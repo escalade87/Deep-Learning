{
  "nbformat": 4,
  "nbformat_minor": 0,
  "metadata": {
    "colab": {
      "name": "HW2.ipynb",
      "provenance": [],
      "toc_visible": true
    },
    "kernelspec": {
      "name": "python3",
      "display_name": "Python 3"
    }
  },
  "cells": [
    {
      "cell_type": "markdown",
      "metadata": {
        "id": "eJDxbGwqf-OJ",
        "colab_type": "text"
      },
      "source": [
        "Number 1"
      ]
    },
    {
      "cell_type": "code",
      "metadata": {
        "id": "XkJSPncUaIAd",
        "colab_type": "code",
        "outputId": "1f1aabe7-afdc-4449-d807-debec9494934",
        "colab": {
          "base_uri": "https://localhost:8080/",
          "height": 330
        }
      },
      "source": [
        "import numpy as np\n",
        "import matplotlib.pyplot as plt\n",
        "import pandas as pd\n",
        "\n",
        "name=['Tissue Concentration','Math Score']\n",
        "\n",
        "def estimate_coef(x, y):\n",
        "    # number of observations/points\n",
        "    n = np.size(x)\n",
        "\n",
        "    # mean of x and y vector\n",
        "    m_x, m_y = np.mean(x), np.mean(y)\n",
        "\n",
        "    # calculating cross-deviation and deviation about x\n",
        "    SS_xy = np.sum(y * x) - n * m_y * m_x\n",
        "    SS_xx = np.sum(x * x) - n * m_x * m_x\n",
        "\n",
        "    # calculating regression coefficients\n",
        "    b_1 = SS_xy / SS_xx\n",
        "    b_0 = m_y - b_1 * m_x\n",
        "\n",
        "    return (b_0, b_1)\n",
        "\n",
        "\n",
        "def plot_regression_line(x, y, b):\n",
        "    # plotting the actual points as scatter plot\n",
        "    plt.scatter(x, y, color=\"m\",\n",
        "                marker=\"o\", s=30)\n",
        "\n",
        "    # predicted response vector\n",
        "    y_pred = b[0] + b[1] * x\n",
        "\n",
        "    # plotting the regression line\n",
        "    plt.plot(x, y_pred, color=\"g\")\n",
        "\n",
        "    # putting labels\n",
        "    plt.xlabel(name[0])\n",
        "    plt.ylabel(name[1])\n",
        "\n",
        "    # function to show plot\n",
        "    plt.show()\n",
        "\n",
        "\n",
        "def main():\n",
        "    df = pd.read_table(\"lsd.dat\", header=None,delim_whitespace=True,names=name)\n",
        "\n",
        "    # observations\n",
        "    x = df[name[0]]\n",
        "    y = df[name[1]]\n",
        "\n",
        "    # estimating coefficients\n",
        "    b = estimate_coef(x, y)\n",
        "    print(\"Estimated coefficients:\\nIntercept = {}  \\\n",
        "    \\nSlope = {}\".format(b[0], b[1]))\n",
        "\n",
        "    # plotting regression line\n",
        "    plot_regression_line(x, y, b)\n",
        "\n",
        "if __name__ == \"__main__\":\n",
        "    main()"
      ],
      "execution_count": 35,
      "outputs": [
        {
          "output_type": "stream",
          "text": [
            "Estimated coefficients:\n",
            "Intercept = 89.12387376799305      \n",
            "Slope = -9.009466415296778\n"
          ],
          "name": "stdout"
        },
        {
          "output_type": "display_data",
          "data": {
            "image/png": "[encoded data removed]",
            "text/plain": [
              "<Figure size 432x288 with 1 Axes>"
            ]
          },
          "metadata": {
            "tags": []
          }
        }
      ]
    },
    {
      "cell_type": "markdown",
      "metadata": {
        "id": "KESG9b6IgCHK",
        "colab_type": "text"
      },
      "source": [
        "Number 2"
      ]
    },
    {
      "cell_type": "code",
      "metadata": {
        "id": "Uu_xDy-f5PRa",
        "colab_type": "code",
        "outputId": "38b6d443-90c4-471a-8a53-b297b4f8754b",
        "colab": {
          "base_uri": "https://localhost:8080/",
          "height": 102
        }
      },
      "source": [
        "import matplotlib.pyplot as plt\n",
        "import numpy as np\n",
        "import pandas as pd\n",
        "from sklearn import datasets,linear_model, metrics\n",
        "\n",
        "\n",
        "def main():\n",
        "    df = pd.read_table(\"tvsales.dat\", header=None, delim_whitespace=True)\n",
        "    df.drop(columns=0, axis=1, inplace=True)\n",
        "\n",
        "    # defining feature matrix(X) and response vector(y)\n",
        "    X = df[df.columns[1:]]\n",
        "    y = df[df.columns[0]]\n",
        "\n",
        "    # create linear regression object\n",
        "    reg = linear_model.LinearRegression()\n",
        "\n",
        "    # train the model using the training sets\n",
        "    reg.fit(X, y)\n",
        "\n",
        "    # regression coefficients\n",
        "    print('Coefficients: \\n', reg.coef_)\n",
        "    print('Intercept: \\n', reg.intercept_)\n",
        "\n",
        "\n",
        "if __name__ == \"__main__\":\n",
        "    main()\n"
      ],
      "execution_count": 88,
      "outputs": [
        {
          "output_type": "stream",
          "text": [
            "Coefficients: \n",
            " [  -0.44778243    0.66238667    1.06932447   -1.68859949   17.03056976\n",
            "  408.35610621 -329.79196578    8.47063034]\n",
            "Intercept: \n",
            " -798.8923003024013\n"
          ],
          "name": "stdout"
        }
      ]
    },
    {
      "cell_type": "markdown",
      "metadata": {
        "id": "3kh6eR9p3Bxr",
        "colab_type": "text"
      },
      "source": [
        "Number 4"
      ]
    },
    {
      "cell_type": "code",
      "metadata": {
        "id": "eDSOw6y73DID",
        "colab_type": "code",
        "colab": {
          "base_uri": "https://localhost:8080/",
          "height": 68
        },
        "outputId": "54e44e42-8920-4ed8-cc45-f6a703165ffc"
      },
      "source": [
        "import numpy as np\n",
        "import matplotlib.pyplot as plt\n",
        "import pandas as pd\n",
        "\n",
        "def estimate_coef(x, y):\n",
        "    # number of observations/points\n",
        "    n = np.size(x)\n",
        "\n",
        "    # mean of x and y vector\n",
        "    m_x, m_y = np.mean(x), np.mean(y)\n",
        "\n",
        "    # calculating cross-deviation and deviation about x\n",
        "    SS_xy = np.sum((x - m_x) * (y - m_y))\n",
        "    SS_xx = np.sum((x - m_x) * (x - m_x)) \n",
        "\n",
        "    # calculating regression coefficients\n",
        "    b_1 = SS_xy / SS_xx\n",
        "    b_0 = m_y - b_1 * m_x\n",
        "\n",
        "    return (b_0, b_1)\n",
        "\n",
        "def main():\n",
        "    df = pd.read_table(\"tombstone.dat\", header=None,delim_whitespace=True)\n",
        "    \n",
        "    \n",
        "    # observations\n",
        "    x = df[df.columns[0]]\n",
        "    y = df[df.columns[1]]\n",
        "\n",
        "    # estimating coefficients\n",
        "    b = estimate_coef(x, y)\n",
        "    print(\"Estimated coefficients:\\nIntercept = {}  \\\n",
        "    \\nSlope = {}\".format(b[0], b[1]))\n",
        "\n",
        "\n",
        "if __name__ == \"__main__\":\n",
        "    main()"
      ],
      "execution_count": 41,
      "outputs": [
        {
          "output_type": "stream",
          "text": [
            "Estimated coefficients:\n",
            "Intercept = 0.32299589884770374      \n",
            "Slope = 0.008593333144122155\n"
          ],
          "name": "stdout"
        }
      ]
    },
    {
      "cell_type": "markdown",
      "metadata": {
        "id": "pcwqvQJxPhpw",
        "colab_type": "text"
      },
      "source": [
        "Number 8"
      ]
    },
    {
      "cell_type": "code",
      "metadata": {
        "id": "LwMFRz5uPirA",
        "colab_type": "code",
        "colab": {
          "base_uri": "https://localhost:8080/",
          "height": 34
        },
        "outputId": "042f530a-c15e-448f-8b36-fe1716950916"
      },
      "source": [
        "import numpy as np\n",
        "import pandas as pd\n",
        "\n",
        "data = pd.read_table(\"manuf_learn.dat\", header=None,delim_whitespace=True)\n",
        "\n",
        "x1 = data[6].values\n",
        "x2 = data[7].values\n",
        "y = data[5].values\n",
        "\n",
        "def normalize(input):\n",
        "  temp = input\n",
        "  input = (temp - temp.min()) / (temp.max() - temp.min())\n",
        "  return input\n",
        "\n",
        "m = len(x1)\n",
        "x0 = np.ones(m)\n",
        "X = np.array([x0, normalize(x1), normalize(x2)]).T\n",
        "B = np.random.normal(0, 1, 3)\n",
        "Y = np.array(y)\n",
        "alpha = 0.01\n",
        "iteration = 0 \n",
        "cost = np.sum((X.dot(B) - Y) ** 2)/(2 * m)\n",
        "\n",
        "while cost > 0.00634:  \n",
        "  if iteration % 5000 == 0:\n",
        "    alpha -= 0.0001\n",
        "  h = X.dot(B)\n",
        "  loss = h - Y\n",
        "  gradient = X.T.dot(loss) / m\n",
        "  B = B - alpha * gradient\n",
        "  cost = np.sum((X.dot(B) - Y) ** 2)/(2 * m)\n",
        "  iteration+=1\n",
        "\n",
        "print(\"New B : \",B)\n"
      ],
      "execution_count": 18,
      "outputs": [
        {
          "output_type": "stream",
          "text": [
            "New B :  [ 4.95257504 -1.27608709 -0.68728875]\n"
          ],
          "name": "stdout"
        }
      ]
    }
  ]
}