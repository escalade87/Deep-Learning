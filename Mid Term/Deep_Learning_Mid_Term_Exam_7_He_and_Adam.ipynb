{
  "nbformat": 4,
  "nbformat_minor": 0,
  "metadata": {
    "colab": {
      "name": "Deep Learning Mid Term Exam #7 - He and Adam.ipynb",
      "provenance": []
    },
    "kernelspec": {
      "name": "python3",
      "display_name": "Python 3"
    }
  },
  "cells": [
    {
      "cell_type": "code",
      "metadata": {
        "id": "D468vNjsO308",
        "colab_type": "code",
        "outputId": "c33e0b6c-d208-483c-c990-7f5e8db5fcaa",
        "colab": {
          "base_uri": "https://localhost:8080/",
          "height": 34
        }
      },
      "source": [
        "import numpy as np\n",
        "from tensorflow import keras\n",
        "import tensorflow as tf\n",
        "import matplotlib.pyplot as plt\n",
        "import scipy.io as sio\n",
        "from keras.utils import np_utils\n",
        "from keras.models import Model\n",
        "from keras.layers import Input, Dense, Flatten\n",
        "import keras.optimizers\n",
        "from keras import regularizers\n",
        "\n",
        "import time  # To time each epoch"
      ],
      "execution_count": 1,
      "outputs": [
        {
          "output_type": "stream",
          "text": [
            "Using TensorFlow backend.\n"
          ],
          "name": "stderr"
        }
      ]
    },
    {
      "cell_type": "code",
      "metadata": {
        "id": "lK_qEiqNO633",
        "colab_type": "code",
        "colab": {}
      },
      "source": [
        "def load_data(DATA_NAME = 'notMNIST_small.mat'):\n",
        "\n",
        "    rows, cols = 28, 28\n",
        "    nb_classes = 10\n",
        "        \n",
        "    mat = sio.loadmat(DATA_NAME)\n",
        "\n",
        "    X = mat['images']\n",
        "    Y = mat['labels']\n",
        "\n",
        "    # Move last column to front\n",
        "    X = np.rollaxis(X, 2)\n",
        "\n",
        "    # Reshape and format input\n",
        "    X = X.reshape(X.shape[0], rows, cols, 1)\n",
        "    X = X.astype('float32')\n",
        "    X -= np.mean(X,axis=0)\n",
        "    X /= 255.0\n",
        "\n",
        "    # Hot encoding\n",
        "    Y = Y.astype(int)\n",
        "    Y = np_utils.to_categorical(Y, nb_classes)\n",
        "\n",
        "    # Divide into test and train sets\n",
        "    perm = np.random.permutation(X.shape[0])\n",
        "\n",
        "    train_size = 13000\n",
        "\n",
        "    X_train = X[perm[:train_size]]\n",
        "    X_test = X[perm[train_size:]]\n",
        "\n",
        "    Y_train = Y[perm[:train_size]]\n",
        "    Y_test = Y[perm[train_size:]]\n",
        "\n",
        "    return (X_train, Y_train, X_test, Y_test)"
      ],
      "execution_count": 0,
      "outputs": []
    },
    {
      "cell_type": "code",
      "metadata": {
        "id": "wGyyIfJNukkY",
        "colab_type": "code",
        "colab": {}
      },
      "source": [
        "train_images, train_labels , test_images, test_labels  = load_data()\n",
        "\n",
        "batch_size = 128\n",
        "nb_epoch = 20"
      ],
      "execution_count": 0,
      "outputs": []
    },
    {
      "cell_type": "code",
      "metadata": {
        "id": "VP_KUWk1BjSm",
        "colab_type": "code",
        "colab": {}
      },
      "source": [
        "from keras.backend import sigmoid\n",
        "def swish(x, beta = 1):\n",
        "    return (x * sigmoid(beta * x))\n",
        "from keras.utils.generic_utils import get_custom_objects\n",
        "from keras.layers import Activation\n",
        "get_custom_objects().update({'swish': Activation(swish)})"
      ],
      "execution_count": 0,
      "outputs": []
    },
    {
      "cell_type": "code",
      "metadata": {
        "id": "tWA-I955wigw",
        "colab_type": "code",
        "colab": {}
      },
      "source": [
        "def get_model(activation='relu', initializer='he_uniform', hidden_size=128,regularizer=None):\n",
        "\n",
        "    # Model parameters\n",
        "    rows, cols = 28, 28\n",
        "    input_shape = (rows, cols, 1)\n",
        "\n",
        "    nb_classes = 10\n",
        "    \n",
        "    inp = Input(shape=input_shape)\n",
        "    flat = Flatten()(inp)\n",
        "    hidden_1 = Dense(hidden_size, activation=activation, kernel_initializer=initializer, \n",
        "                kernel_regularizer=regularizer)(flat)\n",
        "    out = Dense(nb_classes, activation='softmax')(hidden_1)\n",
        "\n",
        "    model = Model(inputs=inp, outputs=out)\n",
        "\n",
        "    print(model.summary())\n",
        "\n",
        "    return model"
      ],
      "execution_count": 0,
      "outputs": []
    },
    {
      "cell_type": "code",
      "metadata": {
        "id": "xPOcn8ZRtDeR",
        "colab_type": "code",
        "colab": {}
      },
      "source": [
        "def get_model2(activation='relu', initializer='he_uniform', hidden_size=128,regularizer=None):\n",
        "\n",
        "    # Model parameters\n",
        "    rows, cols = 28, 28\n",
        "    input_shape = (rows, cols, 1)\n",
        "\n",
        "    nb_classes = 10\n",
        "    \n",
        "    inp = Input(shape=input_shape)\n",
        "    flat = Flatten()(inp)\n",
        "    hidden_1 = Dense(hidden_size, activation=activation, kernel_initializer=initializer,\n",
        "                kernel_regularizer=regularizer)(flat)\n",
        "    hidden_2 = Dense(hidden_size, activation=activation, kernel_initializer=initializer,\n",
        "                kernel_regularizer=regularizer)(hidden_1)\n",
        "    out = Dense(nb_classes, activation='softmax')(hidden_2)\n",
        "\n",
        "    model = Model(inputs=inp, outputs=out)\n",
        "\n",
        "    print(model.summary())\n",
        "\n",
        "    return model"
      ],
      "execution_count": 0,
      "outputs": []
    },
    {
      "cell_type": "markdown",
      "metadata": {
        "id": "Q_VJDC2Ste7J",
        "colab_type": "text"
      },
      "source": [
        "With He Initialization, One hidden layer with 32 input node, ReLU, Adam, without regularizer"
      ]
    },
    {
      "cell_type": "code",
      "metadata": {
        "id": "fMrMvX5KWy01",
        "colab_type": "code",
        "outputId": "23ec061f-11cb-4ae2-d89c-539d0acc71f6",
        "colab": {
          "base_uri": "https://localhost:8080/",
          "height": 1000
        }
      },
      "source": [
        "model = get_model(hidden_size=32)\n",
        "\n",
        "model.compile(loss='categorical_crossentropy', optimizer='adam',\n",
        "              metrics=['accuracy'])\n",
        "\n",
        "model.fit(train_images, train_labels, batch_size=batch_size, epochs=nb_epoch,\n",
        "          verbose=1, validation_data=(test_images, test_labels))\n",
        "\n",
        "score = model.evaluate(test_images, test_labels, verbose=1)\n",
        "\n",
        "print(\"Accuracy:\", score[1])\t  "
      ],
      "execution_count": 7,
      "outputs": [
        {
          "output_type": "stream",
          "text": [
            "Model: \"model_1\"\n",
            "_________________________________________________________________\n",
            "Layer (type)                 Output Shape              Param #   \n",
            "=================================================================\n",
            "input_1 (InputLayer)         (None, 28, 28, 1)         0         \n",
            "_________________________________________________________________\n",
            "flatten_1 (Flatten)          (None, 784)               0         \n",
            "_________________________________________________________________\n",
            "dense_1 (Dense)              (None, 32)                25120     \n",
            "_________________________________________________________________\n",
            "dense_2 (Dense)              (None, 10)                330       \n",
            "=================================================================\n",
            "Total params: 25,450\n",
            "Trainable params: 25,450\n",
            "Non-trainable params: 0\n",
            "_________________________________________________________________\n",
            "None\n",
            "Train on 13000 samples, validate on 5724 samples\n",
            "Epoch 1/20\n",
            "13000/13000 [==============================] - 0s 29us/step - loss: 0.8267 - accuracy: 0.7699 - val_loss: 0.4738 - val_accuracy: 0.8704\n",
            "Epoch 2/20\n",
            "13000/13000 [==============================] - 0s 23us/step - loss: 0.4118 - accuracy: 0.8853 - val_loss: 0.4009 - val_accuracy: 0.8873\n",
            "Epoch 3/20\n",
            "13000/13000 [==============================] - 0s 22us/step - loss: 0.3511 - accuracy: 0.8984 - val_loss: 0.3740 - val_accuracy: 0.8980\n",
            "Epoch 4/20\n",
            "13000/13000 [==============================] - 0s 21us/step - loss: 0.3147 - accuracy: 0.9108 - val_loss: 0.3544 - val_accuracy: 0.8994\n",
            "Epoch 5/20\n",
            "13000/13000 [==============================] - 0s 22us/step - loss: 0.2897 - accuracy: 0.9158 - val_loss: 0.3467 - val_accuracy: 0.9027\n",
            "Epoch 6/20\n",
            "13000/13000 [==============================] - 0s 21us/step - loss: 0.2696 - accuracy: 0.9219 - val_loss: 0.3424 - val_accuracy: 0.9039\n",
            "Epoch 7/20\n",
            "13000/13000 [==============================] - 0s 21us/step - loss: 0.2522 - accuracy: 0.9267 - val_loss: 0.3348 - val_accuracy: 0.9069\n",
            "Epoch 8/20\n",
            "13000/13000 [==============================] - 0s 21us/step - loss: 0.2372 - accuracy: 0.9322 - val_loss: 0.3347 - val_accuracy: 0.9064\n",
            "Epoch 9/20\n",
            "13000/13000 [==============================] - 0s 22us/step - loss: 0.2244 - accuracy: 0.9345 - val_loss: 0.3314 - val_accuracy: 0.9069\n",
            "Epoch 10/20\n",
            "13000/13000 [==============================] - 0s 21us/step - loss: 0.2120 - accuracy: 0.9396 - val_loss: 0.3333 - val_accuracy: 0.9065\n",
            "Epoch 11/20\n",
            "13000/13000 [==============================] - 0s 21us/step - loss: 0.2008 - accuracy: 0.9435 - val_loss: 0.3339 - val_accuracy: 0.9074\n",
            "Epoch 12/20\n",
            "13000/13000 [==============================] - 0s 21us/step - loss: 0.1920 - accuracy: 0.9442 - val_loss: 0.3371 - val_accuracy: 0.9064\n",
            "Epoch 13/20\n",
            "13000/13000 [==============================] - 0s 21us/step - loss: 0.1825 - accuracy: 0.9490 - val_loss: 0.3330 - val_accuracy: 0.9078\n",
            "Epoch 14/20\n",
            "13000/13000 [==============================] - 0s 21us/step - loss: 0.1737 - accuracy: 0.9523 - val_loss: 0.3374 - val_accuracy: 0.9071\n",
            "Epoch 15/20\n",
            "13000/13000 [==============================] - 0s 21us/step - loss: 0.1660 - accuracy: 0.9544 - val_loss: 0.3412 - val_accuracy: 0.9072\n",
            "Epoch 16/20\n",
            "13000/13000 [==============================] - 0s 22us/step - loss: 0.1589 - accuracy: 0.9567 - val_loss: 0.3473 - val_accuracy: 0.9055\n",
            "Epoch 17/20\n",
            "13000/13000 [==============================] - 0s 22us/step - loss: 0.1517 - accuracy: 0.9595 - val_loss: 0.3470 - val_accuracy: 0.9051\n",
            "Epoch 18/20\n",
            "13000/13000 [==============================] - 0s 22us/step - loss: 0.1446 - accuracy: 0.9614 - val_loss: 0.3523 - val_accuracy: 0.9048\n",
            "Epoch 19/20\n",
            "13000/13000 [==============================] - 0s 21us/step - loss: 0.1390 - accuracy: 0.9632 - val_loss: 0.3512 - val_accuracy: 0.9069\n",
            "Epoch 20/20\n",
            "13000/13000 [==============================] - 0s 22us/step - loss: 0.1310 - accuracy: 0.9659 - val_loss: 0.3531 - val_accuracy: 0.9044\n",
            "5724/5724 [==============================] - 0s 20us/step\n",
            "Accuracy: 0.9044374823570251\n"
          ],
          "name": "stdout"
        }
      ]
    },
    {
      "cell_type": "markdown",
      "metadata": {
        "id": "v3U6ONn94LXA",
        "colab_type": "text"
      },
      "source": [
        "With He Initialization, One hidden layer with 32 input node, ReLU, Adam, with L1 regularizer"
      ]
    },
    {
      "cell_type": "code",
      "metadata": {
        "id": "de7jHrz83AX4",
        "colab_type": "code",
        "outputId": "4004c58a-862a-4f27-e9bb-a26b16eea6fc",
        "colab": {
          "base_uri": "https://localhost:8080/",
          "height": 1000
        }
      },
      "source": [
        "model = get_model(hidden_size=32,regularizer=regularizers.l1(0.01))\n",
        "\n",
        "model.compile(loss='categorical_crossentropy', optimizer='adam',\n",
        "              metrics=['accuracy'])\n",
        "\n",
        "model.fit(train_images, train_labels, batch_size=batch_size, epochs=nb_epoch,\n",
        "          verbose=1, validation_data=(test_images, test_labels))\n",
        "\n",
        "score = model.evaluate(test_images, test_labels, verbose=1)\n",
        "\n",
        "print(\"Accuracy:\", score[1])"
      ],
      "execution_count": 8,
      "outputs": [
        {
          "output_type": "stream",
          "text": [
            "Model: \"model_2\"\n",
            "_________________________________________________________________\n",
            "Layer (type)                 Output Shape              Param #   \n",
            "=================================================================\n",
            "input_2 (InputLayer)         (None, 28, 28, 1)         0         \n",
            "_________________________________________________________________\n",
            "flatten_2 (Flatten)          (None, 784)               0         \n",
            "_________________________________________________________________\n",
            "dense_3 (Dense)              (None, 32)                25120     \n",
            "_________________________________________________________________\n",
            "dense_4 (Dense)              (None, 10)                330       \n",
            "=================================================================\n",
            "Total params: 25,450\n",
            "Trainable params: 25,450\n",
            "Non-trainable params: 0\n",
            "_________________________________________________________________\n",
            "None\n",
            "Train on 13000 samples, validate on 5724 samples\n",
            "Epoch 1/20\n",
            "13000/13000 [==============================] - 0s 28us/step - loss: 5.7577 - accuracy: 0.7021 - val_loss: 1.9214 - val_accuracy: 0.8087\n",
            "Epoch 2/20\n",
            "13000/13000 [==============================] - 0s 22us/step - loss: 1.6640 - accuracy: 0.8308 - val_loss: 1.5167 - val_accuracy: 0.8328\n",
            "Epoch 3/20\n",
            "13000/13000 [==============================] - 0s 22us/step - loss: 1.4146 - accuracy: 0.8444 - val_loss: 1.3416 - val_accuracy: 0.8422\n",
            "Epoch 4/20\n",
            "13000/13000 [==============================] - 0s 22us/step - loss: 1.2754 - accuracy: 0.8498 - val_loss: 1.2348 - val_accuracy: 0.8526\n",
            "Epoch 5/20\n",
            "13000/13000 [==============================] - 0s 23us/step - loss: 1.1895 - accuracy: 0.8542 - val_loss: 1.1710 - val_accuracy: 0.8552\n",
            "Epoch 6/20\n",
            "13000/13000 [==============================] - 0s 22us/step - loss: 1.1346 - accuracy: 0.8567 - val_loss: 1.1268 - val_accuracy: 0.8555\n",
            "Epoch 7/20\n",
            "13000/13000 [==============================] - 0s 21us/step - loss: 1.0933 - accuracy: 0.8596 - val_loss: 1.1018 - val_accuracy: 0.8569\n",
            "Epoch 8/20\n",
            "13000/13000 [==============================] - 0s 21us/step - loss: 1.0611 - accuracy: 0.8618 - val_loss: 1.0551 - val_accuracy: 0.8627\n",
            "Epoch 9/20\n",
            "13000/13000 [==============================] - 0s 21us/step - loss: 1.0381 - accuracy: 0.8609 - val_loss: 1.0345 - val_accuracy: 0.8592\n",
            "Epoch 10/20\n",
            "13000/13000 [==============================] - 0s 21us/step - loss: 1.0142 - accuracy: 0.8643 - val_loss: 1.0287 - val_accuracy: 0.8618\n",
            "Epoch 11/20\n",
            "13000/13000 [==============================] - 0s 21us/step - loss: 0.9944 - accuracy: 0.8645 - val_loss: 1.0097 - val_accuracy: 0.8643\n",
            "Epoch 12/20\n",
            "13000/13000 [==============================] - 0s 22us/step - loss: 0.9814 - accuracy: 0.8663 - val_loss: 0.9831 - val_accuracy: 0.8630\n",
            "Epoch 13/20\n",
            "13000/13000 [==============================] - 0s 21us/step - loss: 0.9669 - accuracy: 0.8658 - val_loss: 0.9733 - val_accuracy: 0.8648\n",
            "Epoch 14/20\n",
            "13000/13000 [==============================] - 0s 22us/step - loss: 0.9583 - accuracy: 0.8682 - val_loss: 0.9815 - val_accuracy: 0.8630\n",
            "Epoch 15/20\n",
            "13000/13000 [==============================] - 0s 22us/step - loss: 0.9509 - accuracy: 0.8683 - val_loss: 0.9612 - val_accuracy: 0.8641\n",
            "Epoch 16/20\n",
            "13000/13000 [==============================] - 0s 21us/step - loss: 0.9440 - accuracy: 0.8670 - val_loss: 0.9501 - val_accuracy: 0.8634\n",
            "Epoch 17/20\n",
            "13000/13000 [==============================] - 0s 22us/step - loss: 0.9240 - accuracy: 0.8701 - val_loss: 0.9373 - val_accuracy: 0.8679\n",
            "Epoch 18/20\n",
            "13000/13000 [==============================] - 0s 22us/step - loss: 0.9131 - accuracy: 0.8697 - val_loss: 0.9284 - val_accuracy: 0.8688\n",
            "Epoch 19/20\n",
            "13000/13000 [==============================] - 0s 22us/step - loss: 0.9097 - accuracy: 0.8717 - val_loss: 0.9104 - val_accuracy: 0.8677\n",
            "Epoch 20/20\n",
            "13000/13000 [==============================] - 0s 21us/step - loss: 0.9064 - accuracy: 0.8728 - val_loss: 0.9451 - val_accuracy: 0.8629\n",
            "5724/5724 [==============================] - 0s 20us/step\n",
            "Accuracy: 0.8628581166267395\n"
          ],
          "name": "stdout"
        }
      ]
    },
    {
      "cell_type": "markdown",
      "metadata": {
        "id": "IIXS1TtK3KAv",
        "colab_type": "text"
      },
      "source": [
        "With He Initialization, One hidden layer with 32 input node, ReLU, Adam, with L2 regularizer"
      ]
    },
    {
      "cell_type": "code",
      "metadata": {
        "id": "ZVA_LNgA3_I3",
        "colab_type": "code",
        "outputId": "87e66a19-71ba-4e57-9970-de400c34ef4b",
        "colab": {
          "base_uri": "https://localhost:8080/",
          "height": 1000
        }
      },
      "source": [
        "model = get_model(hidden_size=32,regularizer=regularizers.l2(0.01))\n",
        "\n",
        "model.compile(loss='categorical_crossentropy', optimizer='adam',\n",
        "              metrics=['accuracy'])\n",
        "\n",
        "model.fit(train_images, train_labels, batch_size=batch_size, epochs=nb_epoch,\n",
        "          verbose=1, validation_data=(test_images, test_labels))\n",
        "\n",
        "score = model.evaluate(test_images, test_labels, verbose=1)\n",
        "\n",
        "print(\"Accuracy:\", score[1])"
      ],
      "execution_count": 9,
      "outputs": [
        {
          "output_type": "stream",
          "text": [
            "Model: \"model_3\"\n",
            "_________________________________________________________________\n",
            "Layer (type)                 Output Shape              Param #   \n",
            "=================================================================\n",
            "input_3 (InputLayer)         (None, 28, 28, 1)         0         \n",
            "_________________________________________________________________\n",
            "flatten_3 (Flatten)          (None, 784)               0         \n",
            "_________________________________________________________________\n",
            "dense_5 (Dense)              (None, 32)                25120     \n",
            "_________________________________________________________________\n",
            "dense_6 (Dense)              (None, 10)                330       \n",
            "=================================================================\n",
            "Total params: 25,450\n",
            "Trainable params: 25,450\n",
            "Non-trainable params: 0\n",
            "_________________________________________________________________\n",
            "None\n",
            "Train on 13000 samples, validate on 5724 samples\n",
            "Epoch 1/20\n",
            "13000/13000 [==============================] - 0s 28us/step - loss: 1.3391 - accuracy: 0.7857 - val_loss: 0.8926 - val_accuracy: 0.8686\n",
            "Epoch 2/20\n",
            "13000/13000 [==============================] - 0s 22us/step - loss: 0.7335 - accuracy: 0.8834 - val_loss: 0.6451 - val_accuracy: 0.8829\n",
            "Epoch 3/20\n",
            "13000/13000 [==============================] - 0s 21us/step - loss: 0.5680 - accuracy: 0.8935 - val_loss: 0.5457 - val_accuracy: 0.8940\n",
            "Epoch 4/20\n",
            "13000/13000 [==============================] - 0s 22us/step - loss: 0.5007 - accuracy: 0.8987 - val_loss: 0.5088 - val_accuracy: 0.8901\n",
            "Epoch 5/20\n",
            "13000/13000 [==============================] - 0s 21us/step - loss: 0.4696 - accuracy: 0.9006 - val_loss: 0.4887 - val_accuracy: 0.8959\n",
            "Epoch 6/20\n",
            "13000/13000 [==============================] - 0s 22us/step - loss: 0.4494 - accuracy: 0.9059 - val_loss: 0.4805 - val_accuracy: 0.8983\n",
            "Epoch 7/20\n",
            "13000/13000 [==============================] - 0s 21us/step - loss: 0.4358 - accuracy: 0.9074 - val_loss: 0.4729 - val_accuracy: 0.8955\n",
            "Epoch 8/20\n",
            "13000/13000 [==============================] - 0s 23us/step - loss: 0.4248 - accuracy: 0.9086 - val_loss: 0.4632 - val_accuracy: 0.8981\n",
            "Epoch 9/20\n",
            "13000/13000 [==============================] - 0s 22us/step - loss: 0.4169 - accuracy: 0.9094 - val_loss: 0.4559 - val_accuracy: 0.9009\n",
            "Epoch 10/20\n",
            "13000/13000 [==============================] - 0s 22us/step - loss: 0.4081 - accuracy: 0.9126 - val_loss: 0.4459 - val_accuracy: 0.9009\n",
            "Epoch 11/20\n",
            "13000/13000 [==============================] - 0s 22us/step - loss: 0.4030 - accuracy: 0.9122 - val_loss: 0.4562 - val_accuracy: 0.8957\n",
            "Epoch 12/20\n",
            "13000/13000 [==============================] - 0s 21us/step - loss: 0.3968 - accuracy: 0.9149 - val_loss: 0.4480 - val_accuracy: 0.8973\n",
            "Epoch 13/20\n",
            "13000/13000 [==============================] - 0s 21us/step - loss: 0.3924 - accuracy: 0.9144 - val_loss: 0.4428 - val_accuracy: 0.8995\n",
            "Epoch 14/20\n",
            "13000/13000 [==============================] - 0s 21us/step - loss: 0.3889 - accuracy: 0.9137 - val_loss: 0.4397 - val_accuracy: 0.9002\n",
            "Epoch 15/20\n",
            "13000/13000 [==============================] - 0s 22us/step - loss: 0.3833 - accuracy: 0.9172 - val_loss: 0.4351 - val_accuracy: 0.9009\n",
            "Epoch 16/20\n",
            "13000/13000 [==============================] - 0s 22us/step - loss: 0.3798 - accuracy: 0.9175 - val_loss: 0.4305 - val_accuracy: 0.9032\n",
            "Epoch 17/20\n",
            "13000/13000 [==============================] - 0s 21us/step - loss: 0.3758 - accuracy: 0.9183 - val_loss: 0.4277 - val_accuracy: 0.9037\n",
            "Epoch 18/20\n",
            "13000/13000 [==============================] - 0s 23us/step - loss: 0.3690 - accuracy: 0.9218 - val_loss: 0.4364 - val_accuracy: 0.9004\n",
            "Epoch 19/20\n",
            "13000/13000 [==============================] - 0s 22us/step - loss: 0.3681 - accuracy: 0.9181 - val_loss: 0.4301 - val_accuracy: 0.9032\n",
            "Epoch 20/20\n",
            "13000/13000 [==============================] - 0s 21us/step - loss: 0.3643 - accuracy: 0.9218 - val_loss: 0.4265 - val_accuracy: 0.9037\n",
            "5724/5724 [==============================] - 0s 21us/step\n",
            "Accuracy: 0.9037386178970337\n"
          ],
          "name": "stdout"
        }
      ]
    },
    {
      "cell_type": "markdown",
      "metadata": {
        "colab_type": "text",
        "id": "dw2mZ3PL4Vpq"
      },
      "source": [
        "With He Initialization, Two hidden layer with each layer contains 128 input node, ReLU, Adam, without regularizer"
      ]
    },
    {
      "cell_type": "code",
      "metadata": {
        "colab_type": "code",
        "outputId": "1c722af3-9489-43d4-a659-4da447138eaf",
        "id": "M1uISYFs4Vpr",
        "colab": {
          "base_uri": "https://localhost:8080/",
          "height": 1000
        }
      },
      "source": [
        "model = get_model2(hidden_size=128)\n",
        "\n",
        "model.compile(loss='categorical_crossentropy', optimizer='adam',\n",
        "              metrics=['accuracy'])\n",
        "\n",
        "model.fit(train_images, train_labels, batch_size=batch_size, epochs=nb_epoch,\n",
        "          verbose=1, validation_data=(test_images, test_labels))\n",
        "\n",
        "score = model.evaluate(test_images, test_labels, verbose=1)\n",
        "\n",
        "print(\"Accuracy:\", score[1])\t  "
      ],
      "execution_count": 10,
      "outputs": [
        {
          "output_type": "stream",
          "text": [
            "Model: \"model_4\"\n",
            "_________________________________________________________________\n",
            "Layer (type)                 Output Shape              Param #   \n",
            "=================================================================\n",
            "input_4 (InputLayer)         (None, 28, 28, 1)         0         \n",
            "_________________________________________________________________\n",
            "flatten_4 (Flatten)          (None, 784)               0         \n",
            "_________________________________________________________________\n",
            "dense_7 (Dense)              (None, 128)               100480    \n",
            "_________________________________________________________________\n",
            "dense_8 (Dense)              (None, 128)               16512     \n",
            "_________________________________________________________________\n",
            "dense_9 (Dense)              (None, 10)                1290      \n",
            "=================================================================\n",
            "Total params: 118,282\n",
            "Trainable params: 118,282\n",
            "Non-trainable params: 0\n",
            "_________________________________________________________________\n",
            "None\n",
            "Train on 13000 samples, validate on 5724 samples\n",
            "Epoch 1/20\n",
            "13000/13000 [==============================] - 1s 46us/step - loss: 0.5663 - accuracy: 0.8378 - val_loss: 0.3651 - val_accuracy: 0.8952\n",
            "Epoch 2/20\n",
            "13000/13000 [==============================] - 1s 39us/step - loss: 0.2985 - accuracy: 0.9105 - val_loss: 0.3213 - val_accuracy: 0.9057\n",
            "Epoch 3/20\n",
            "13000/13000 [==============================] - 1s 40us/step - loss: 0.2352 - accuracy: 0.9294 - val_loss: 0.3066 - val_accuracy: 0.9083\n",
            "Epoch 4/20\n",
            "13000/13000 [==============================] - 1s 40us/step - loss: 0.1957 - accuracy: 0.9402 - val_loss: 0.2975 - val_accuracy: 0.9135\n",
            "Epoch 5/20\n",
            "13000/13000 [==============================] - 1s 39us/step - loss: 0.1597 - accuracy: 0.9536 - val_loss: 0.3087 - val_accuracy: 0.9107\n",
            "Epoch 6/20\n",
            "13000/13000 [==============================] - 1s 39us/step - loss: 0.1278 - accuracy: 0.9638 - val_loss: 0.3067 - val_accuracy: 0.9133\n",
            "Epoch 7/20\n",
            "13000/13000 [==============================] - 1s 39us/step - loss: 0.1060 - accuracy: 0.9703 - val_loss: 0.3142 - val_accuracy: 0.9149\n",
            "Epoch 8/20\n",
            "13000/13000 [==============================] - 1s 40us/step - loss: 0.0846 - accuracy: 0.9775 - val_loss: 0.3194 - val_accuracy: 0.9153\n",
            "Epoch 9/20\n",
            "13000/13000 [==============================] - 1s 40us/step - loss: 0.0683 - accuracy: 0.9822 - val_loss: 0.3362 - val_accuracy: 0.9151\n",
            "Epoch 10/20\n",
            "13000/13000 [==============================] - 1s 40us/step - loss: 0.0561 - accuracy: 0.9857 - val_loss: 0.3577 - val_accuracy: 0.9147\n",
            "Epoch 11/20\n",
            "13000/13000 [==============================] - 0s 38us/step - loss: 0.0437 - accuracy: 0.9902 - val_loss: 0.3553 - val_accuracy: 0.9163\n",
            "Epoch 12/20\n",
            "13000/13000 [==============================] - 1s 39us/step - loss: 0.0364 - accuracy: 0.9915 - val_loss: 0.3637 - val_accuracy: 0.9175\n",
            "Epoch 13/20\n",
            "13000/13000 [==============================] - 1s 39us/step - loss: 0.0300 - accuracy: 0.9935 - val_loss: 0.3804 - val_accuracy: 0.9167\n",
            "Epoch 14/20\n",
            "13000/13000 [==============================] - 1s 39us/step - loss: 0.0244 - accuracy: 0.9945 - val_loss: 0.3846 - val_accuracy: 0.9172\n",
            "Epoch 15/20\n",
            "13000/13000 [==============================] - 0s 38us/step - loss: 0.0259 - accuracy: 0.9935 - val_loss: 0.4253 - val_accuracy: 0.9161\n",
            "Epoch 16/20\n",
            "13000/13000 [==============================] - 1s 40us/step - loss: 0.0276 - accuracy: 0.9926 - val_loss: 0.4137 - val_accuracy: 0.9144\n",
            "Epoch 17/20\n",
            "13000/13000 [==============================] - 1s 39us/step - loss: 0.0174 - accuracy: 0.9962 - val_loss: 0.4343 - val_accuracy: 0.9161\n",
            "Epoch 18/20\n",
            "13000/13000 [==============================] - 1s 40us/step - loss: 0.0169 - accuracy: 0.9965 - val_loss: 0.4353 - val_accuracy: 0.9168\n",
            "Epoch 19/20\n",
            "13000/13000 [==============================] - 1s 39us/step - loss: 0.0157 - accuracy: 0.9962 - val_loss: 0.4451 - val_accuracy: 0.9153\n",
            "Epoch 20/20\n",
            "13000/13000 [==============================] - 1s 41us/step - loss: 0.0148 - accuracy: 0.9968 - val_loss: 0.4582 - val_accuracy: 0.9146\n",
            "5724/5724 [==============================] - 0s 25us/step\n",
            "Accuracy: 0.9145702123641968\n"
          ],
          "name": "stdout"
        }
      ]
    },
    {
      "cell_type": "markdown",
      "metadata": {
        "colab_type": "text",
        "id": "Or2DziC74Vpv"
      },
      "source": [
        "With He Initialization, Two hidden layer with each layer contains 128 input node, ReLU, Adam, with L1 regularizer"
      ]
    },
    {
      "cell_type": "code",
      "metadata": {
        "colab_type": "code",
        "id": "FVp1SNIJ4Vpv",
        "outputId": "d066e030-1924-4381-fb1f-10efe3fa8e4e",
        "colab": {
          "base_uri": "https://localhost:8080/",
          "height": 1000
        }
      },
      "source": [
        "model = get_model2(hidden_size=128,regularizer=regularizers.l1(0.01))\n",
        "\n",
        "model.compile(loss='categorical_crossentropy', optimizer='adam',\n",
        "              metrics=['accuracy'])\n",
        "\n",
        "model.fit(train_images, train_labels, batch_size=batch_size, epochs=nb_epoch,\n",
        "          verbose=1, validation_data=(test_images, test_labels))\n",
        "\n",
        "score = model.evaluate(test_images, test_labels, verbose=1)\n",
        "\n",
        "print(\"Accuracy:\", score[1])"
      ],
      "execution_count": 11,
      "outputs": [
        {
          "output_type": "stream",
          "text": [
            "Model: \"model_5\"\n",
            "_________________________________________________________________\n",
            "Layer (type)                 Output Shape              Param #   \n",
            "=================================================================\n",
            "input_5 (InputLayer)         (None, 28, 28, 1)         0         \n",
            "_________________________________________________________________\n",
            "flatten_5 (Flatten)          (None, 784)               0         \n",
            "_________________________________________________________________\n",
            "dense_10 (Dense)             (None, 128)               100480    \n",
            "_________________________________________________________________\n",
            "dense_11 (Dense)             (None, 128)               16512     \n",
            "_________________________________________________________________\n",
            "dense_12 (Dense)             (None, 10)                1290      \n",
            "=================================================================\n",
            "Total params: 118,282\n",
            "Trainable params: 118,282\n",
            "Non-trainable params: 0\n",
            "_________________________________________________________________\n",
            "None\n",
            "Train on 13000 samples, validate on 5724 samples\n",
            "Epoch 1/20\n",
            "13000/13000 [==============================] - 1s 51us/step - loss: 26.7970 - accuracy: 0.6771 - val_loss: 7.5365 - val_accuracy: 0.7928\n",
            "Epoch 2/20\n",
            "13000/13000 [==============================] - 1s 43us/step - loss: 4.0532 - accuracy: 0.8035 - val_loss: 1.9973 - val_accuracy: 0.8178\n",
            "Epoch 3/20\n",
            "13000/13000 [==============================] - 1s 42us/step - loss: 1.7121 - accuracy: 0.8101 - val_loss: 1.5951 - val_accuracy: 0.8066\n",
            "Epoch 4/20\n",
            "13000/13000 [==============================] - 1s 43us/step - loss: 1.5262 - accuracy: 0.8210 - val_loss: 1.4810 - val_accuracy: 0.8192\n",
            "Epoch 5/20\n",
            "13000/13000 [==============================] - 1s 42us/step - loss: 1.4270 - accuracy: 0.8336 - val_loss: 1.4046 - val_accuracy: 0.8368\n",
            "Epoch 6/20\n",
            "13000/13000 [==============================] - 1s 42us/step - loss: 1.3535 - accuracy: 0.8521 - val_loss: 1.3347 - val_accuracy: 0.8574\n",
            "Epoch 7/20\n",
            "13000/13000 [==============================] - 1s 42us/step - loss: 1.2963 - accuracy: 0.8596 - val_loss: 1.2876 - val_accuracy: 0.8615\n",
            "Epoch 8/20\n",
            "13000/13000 [==============================] - 1s 42us/step - loss: 1.2538 - accuracy: 0.8633 - val_loss: 1.2501 - val_accuracy: 0.8630\n",
            "Epoch 9/20\n",
            "13000/13000 [==============================] - 1s 43us/step - loss: 1.2229 - accuracy: 0.8677 - val_loss: 1.2290 - val_accuracy: 0.8625\n",
            "Epoch 10/20\n",
            "13000/13000 [==============================] - 1s 42us/step - loss: 1.1975 - accuracy: 0.8690 - val_loss: 1.2014 - val_accuracy: 0.8648\n",
            "Epoch 11/20\n",
            "13000/13000 [==============================] - 1s 43us/step - loss: 1.1731 - accuracy: 0.8725 - val_loss: 1.1853 - val_accuracy: 0.8648\n",
            "Epoch 12/20\n",
            "13000/13000 [==============================] - 1s 43us/step - loss: 1.1541 - accuracy: 0.8758 - val_loss: 1.1692 - val_accuracy: 0.8683\n",
            "Epoch 13/20\n",
            "13000/13000 [==============================] - 1s 42us/step - loss: 1.1398 - accuracy: 0.8745 - val_loss: 1.1575 - val_accuracy: 0.8677\n",
            "Epoch 14/20\n",
            "13000/13000 [==============================] - 1s 42us/step - loss: 1.1285 - accuracy: 0.8740 - val_loss: 1.1343 - val_accuracy: 0.8723\n",
            "Epoch 15/20\n",
            "13000/13000 [==============================] - 1s 44us/step - loss: 1.1188 - accuracy: 0.8733 - val_loss: 1.1217 - val_accuracy: 0.8733\n",
            "Epoch 16/20\n",
            "13000/13000 [==============================] - 1s 42us/step - loss: 1.0994 - accuracy: 0.8762 - val_loss: 1.1112 - val_accuracy: 0.8747\n",
            "Epoch 17/20\n",
            "13000/13000 [==============================] - 1s 43us/step - loss: 1.0914 - accuracy: 0.8762 - val_loss: 1.1122 - val_accuracy: 0.8735\n",
            "Epoch 18/20\n",
            "13000/13000 [==============================] - 1s 42us/step - loss: 1.0816 - accuracy: 0.8777 - val_loss: 1.0881 - val_accuracy: 0.8758\n",
            "Epoch 19/20\n",
            "13000/13000 [==============================] - 1s 43us/step - loss: 1.0754 - accuracy: 0.8758 - val_loss: 1.0881 - val_accuracy: 0.8760\n",
            "Epoch 20/20\n",
            "13000/13000 [==============================] - 1s 44us/step - loss: 1.0664 - accuracy: 0.8768 - val_loss: 1.0760 - val_accuracy: 0.8749\n",
            "5724/5724 [==============================] - 0s 29us/step\n",
            "Accuracy: 0.8749126195907593\n"
          ],
          "name": "stdout"
        }
      ]
    },
    {
      "cell_type": "markdown",
      "metadata": {
        "colab_type": "text",
        "id": "8olj8yk84Vpx"
      },
      "source": [
        "With He Initialization, Two hidden layer with each layer contains 128 input node, ReLU, Adam, with L2\n",
        "regularizer"
      ]
    },
    {
      "cell_type": "code",
      "metadata": {
        "colab_type": "code",
        "id": "EB2LNNNm4Vpy",
        "outputId": "2e322496-36b5-4218-cb7f-51208e9af55d",
        "colab": {
          "base_uri": "https://localhost:8080/",
          "height": 1000
        }
      },
      "source": [
        "model = get_model2(hidden_size=128,regularizer=regularizers.l2(0.01))\n",
        "\n",
        "model.compile(loss='categorical_crossentropy', optimizer='adam',\n",
        "              metrics=['accuracy'])\n",
        "\n",
        "model.fit(train_images, train_labels, batch_size=batch_size, epochs=nb_epoch,\n",
        "          verbose=1, validation_data=(test_images, test_labels))\n",
        "\n",
        "score = model.evaluate(test_images, test_labels, verbose=1)\n",
        "\n",
        "print(\"Accuracy:\", score[1])"
      ],
      "execution_count": 12,
      "outputs": [
        {
          "output_type": "stream",
          "text": [
            "Model: \"model_6\"\n",
            "_________________________________________________________________\n",
            "Layer (type)                 Output Shape              Param #   \n",
            "=================================================================\n",
            "input_6 (InputLayer)         (None, 28, 28, 1)         0         \n",
            "_________________________________________________________________\n",
            "flatten_6 (Flatten)          (None, 784)               0         \n",
            "_________________________________________________________________\n",
            "dense_13 (Dense)             (None, 128)               100480    \n",
            "_________________________________________________________________\n",
            "dense_14 (Dense)             (None, 128)               16512     \n",
            "_________________________________________________________________\n",
            "dense_15 (Dense)             (None, 10)                1290      \n",
            "=================================================================\n",
            "Total params: 118,282\n",
            "Trainable params: 118,282\n",
            "Non-trainable params: 0\n",
            "_________________________________________________________________\n",
            "None\n",
            "Train on 13000 samples, validate on 5724 samples\n",
            "Epoch 1/20\n",
            "13000/13000 [==============================] - 1s 63us/step - loss: 3.8111 - accuracy: 0.8279 - val_loss: 1.9835 - val_accuracy: 0.8885\n",
            "Epoch 2/20\n",
            "13000/13000 [==============================] - 1s 55us/step - loss: 1.3032 - accuracy: 0.8930 - val_loss: 0.8954 - val_accuracy: 0.8938\n",
            "Epoch 3/20\n",
            "13000/13000 [==============================] - 1s 56us/step - loss: 0.7251 - accuracy: 0.8985 - val_loss: 0.6469 - val_accuracy: 0.8954\n",
            "Epoch 4/20\n",
            "13000/13000 [==============================] - 1s 56us/step - loss: 0.5846 - accuracy: 0.9021 - val_loss: 0.5839 - val_accuracy: 0.8922\n",
            "Epoch 5/20\n",
            "13000/13000 [==============================] - 1s 55us/step - loss: 0.5365 - accuracy: 0.9030 - val_loss: 0.5607 - val_accuracy: 0.8924\n",
            "Epoch 6/20\n",
            "13000/13000 [==============================] - 1s 56us/step - loss: 0.5175 - accuracy: 0.9024 - val_loss: 0.5349 - val_accuracy: 0.8973\n",
            "Epoch 7/20\n",
            "13000/13000 [==============================] - 1s 55us/step - loss: 0.5007 - accuracy: 0.9064 - val_loss: 0.5127 - val_accuracy: 0.9027\n",
            "Epoch 8/20\n",
            "13000/13000 [==============================] - 1s 56us/step - loss: 0.4878 - accuracy: 0.9073 - val_loss: 0.5279 - val_accuracy: 0.8943\n",
            "Epoch 9/20\n",
            "13000/13000 [==============================] - 1s 57us/step - loss: 0.4811 - accuracy: 0.9081 - val_loss: 0.5229 - val_accuracy: 0.8947\n",
            "Epoch 10/20\n",
            "13000/13000 [==============================] - 1s 57us/step - loss: 0.4712 - accuracy: 0.9108 - val_loss: 0.4954 - val_accuracy: 0.9055\n",
            "Epoch 11/20\n",
            "13000/13000 [==============================] - 1s 56us/step - loss: 0.4640 - accuracy: 0.9130 - val_loss: 0.4989 - val_accuracy: 0.9044\n",
            "Epoch 12/20\n",
            "13000/13000 [==============================] - 1s 56us/step - loss: 0.4592 - accuracy: 0.9114 - val_loss: 0.4903 - val_accuracy: 0.9039\n",
            "Epoch 13/20\n",
            "13000/13000 [==============================] - 1s 56us/step - loss: 0.4488 - accuracy: 0.9144 - val_loss: 0.4965 - val_accuracy: 0.8992\n",
            "Epoch 14/20\n",
            "13000/13000 [==============================] - 1s 56us/step - loss: 0.4468 - accuracy: 0.9137 - val_loss: 0.4893 - val_accuracy: 0.8997\n",
            "Epoch 15/20\n",
            "13000/13000 [==============================] - 1s 55us/step - loss: 0.4408 - accuracy: 0.9142 - val_loss: 0.4917 - val_accuracy: 0.9001\n",
            "Epoch 16/20\n",
            "13000/13000 [==============================] - 1s 58us/step - loss: 0.4323 - accuracy: 0.9148 - val_loss: 0.4852 - val_accuracy: 0.9015\n",
            "Epoch 17/20\n",
            "13000/13000 [==============================] - 1s 55us/step - loss: 0.4267 - accuracy: 0.9187 - val_loss: 0.4787 - val_accuracy: 0.9009\n",
            "Epoch 18/20\n",
            "13000/13000 [==============================] - 1s 56us/step - loss: 0.4226 - accuracy: 0.9179 - val_loss: 0.4685 - val_accuracy: 0.9048\n",
            "Epoch 19/20\n",
            "13000/13000 [==============================] - 1s 57us/step - loss: 0.4176 - accuracy: 0.9195 - val_loss: 0.4731 - val_accuracy: 0.9037\n",
            "Epoch 20/20\n",
            "13000/13000 [==============================] - 1s 59us/step - loss: 0.4125 - accuracy: 0.9225 - val_loss: 0.4621 - val_accuracy: 0.9062\n",
            "5724/5724 [==============================] - 0s 28us/step\n",
            "Accuracy: 0.9061844944953918\n"
          ],
          "name": "stdout"
        }
      ]
    },
    {
      "cell_type": "markdown",
      "metadata": {
        "colab_type": "text",
        "id": "0216p6rE56Xi"
      },
      "source": [
        "With He Initialization, One hidden layer with 32 input node, Swish, Adam, without regularizer"
      ]
    },
    {
      "cell_type": "code",
      "metadata": {
        "colab_type": "code",
        "outputId": "479ec86a-546e-48b5-9c9b-fbc972b62a72",
        "id": "yhI0_2oT56Xl",
        "colab": {
          "base_uri": "https://localhost:8080/",
          "height": 1000
        }
      },
      "source": [
        "model = get_model(hidden_size=32,activation='swish')\n",
        "\n",
        "model.compile(loss='categorical_crossentropy', optimizer='adam',\n",
        "              metrics=['accuracy'])\n",
        "\n",
        "model.fit(train_images, train_labels, batch_size=batch_size, epochs=nb_epoch,\n",
        "          verbose=1, validation_data=(test_images, test_labels))\n",
        "\n",
        "score = model.evaluate(test_images, test_labels, verbose=1)\n",
        "\n",
        "print(\"Accuracy:\", score[1])\t  "
      ],
      "execution_count": 13,
      "outputs": [
        {
          "output_type": "stream",
          "text": [
            "Model: \"model_7\"\n",
            "_________________________________________________________________\n",
            "Layer (type)                 Output Shape              Param #   \n",
            "=================================================================\n",
            "input_7 (InputLayer)         (None, 28, 28, 1)         0         \n",
            "_________________________________________________________________\n",
            "flatten_7 (Flatten)          (None, 784)               0         \n",
            "_________________________________________________________________\n",
            "dense_16 (Dense)             (None, 32)                25120     \n",
            "_________________________________________________________________\n",
            "dense_17 (Dense)             (None, 10)                330       \n",
            "=================================================================\n",
            "Total params: 25,450\n",
            "Trainable params: 25,450\n",
            "Non-trainable params: 0\n",
            "_________________________________________________________________\n",
            "None\n",
            "Train on 13000 samples, validate on 5724 samples\n",
            "Epoch 1/20\n",
            "13000/13000 [==============================] - 0s 32us/step - loss: 0.7897 - accuracy: 0.7943 - val_loss: 0.4739 - val_accuracy: 0.8733\n",
            "Epoch 2/20\n",
            "13000/13000 [==============================] - 0s 25us/step - loss: 0.4150 - accuracy: 0.8850 - val_loss: 0.3991 - val_accuracy: 0.8892\n",
            "Epoch 3/20\n",
            "13000/13000 [==============================] - 0s 24us/step - loss: 0.3540 - accuracy: 0.8988 - val_loss: 0.3678 - val_accuracy: 0.8985\n",
            "Epoch 4/20\n",
            "13000/13000 [==============================] - 0s 24us/step - loss: 0.3167 - accuracy: 0.9082 - val_loss: 0.3509 - val_accuracy: 0.9030\n",
            "Epoch 5/20\n",
            "13000/13000 [==============================] - 0s 26us/step - loss: 0.2922 - accuracy: 0.9142 - val_loss: 0.3414 - val_accuracy: 0.9034\n",
            "Epoch 6/20\n",
            "13000/13000 [==============================] - 0s 25us/step - loss: 0.2701 - accuracy: 0.9211 - val_loss: 0.3348 - val_accuracy: 0.9078\n",
            "Epoch 7/20\n",
            "13000/13000 [==============================] - 0s 24us/step - loss: 0.2516 - accuracy: 0.9255 - val_loss: 0.3314 - val_accuracy: 0.9079\n",
            "Epoch 8/20\n",
            "13000/13000 [==============================] - 0s 25us/step - loss: 0.2372 - accuracy: 0.9299 - val_loss: 0.3268 - val_accuracy: 0.9095\n",
            "Epoch 9/20\n",
            "13000/13000 [==============================] - 0s 24us/step - loss: 0.2240 - accuracy: 0.9354 - val_loss: 0.3320 - val_accuracy: 0.9044\n",
            "Epoch 10/20\n",
            "13000/13000 [==============================] - 0s 25us/step - loss: 0.2103 - accuracy: 0.9398 - val_loss: 0.3286 - val_accuracy: 0.9064\n",
            "Epoch 11/20\n",
            "13000/13000 [==============================] - 0s 25us/step - loss: 0.1986 - accuracy: 0.9433 - val_loss: 0.3256 - val_accuracy: 0.9078\n",
            "Epoch 12/20\n",
            "13000/13000 [==============================] - 0s 25us/step - loss: 0.1887 - accuracy: 0.9469 - val_loss: 0.3259 - val_accuracy: 0.9081\n",
            "Epoch 13/20\n",
            "13000/13000 [==============================] - 0s 25us/step - loss: 0.1782 - accuracy: 0.9493 - val_loss: 0.3264 - val_accuracy: 0.9079\n",
            "Epoch 14/20\n",
            "13000/13000 [==============================] - 0s 24us/step - loss: 0.1685 - accuracy: 0.9525 - val_loss: 0.3292 - val_accuracy: 0.9067\n",
            "Epoch 15/20\n",
            "13000/13000 [==============================] - 0s 24us/step - loss: 0.1603 - accuracy: 0.9544 - val_loss: 0.3318 - val_accuracy: 0.9064\n",
            "Epoch 16/20\n",
            "13000/13000 [==============================] - 0s 26us/step - loss: 0.1519 - accuracy: 0.9592 - val_loss: 0.3351 - val_accuracy: 0.9046\n",
            "Epoch 17/20\n",
            "13000/13000 [==============================] - 0s 24us/step - loss: 0.1449 - accuracy: 0.9598 - val_loss: 0.3372 - val_accuracy: 0.9053\n",
            "Epoch 18/20\n",
            "13000/13000 [==============================] - 0s 24us/step - loss: 0.1373 - accuracy: 0.9627 - val_loss: 0.3440 - val_accuracy: 0.9037\n",
            "Epoch 19/20\n",
            "13000/13000 [==============================] - 0s 25us/step - loss: 0.1306 - accuracy: 0.9642 - val_loss: 0.3441 - val_accuracy: 0.9058\n",
            "Epoch 20/20\n",
            "13000/13000 [==============================] - 0s 25us/step - loss: 0.1253 - accuracy: 0.9661 - val_loss: 0.3454 - val_accuracy: 0.9039\n",
            "5724/5724 [==============================] - 0s 21us/step\n",
            "Accuracy: 0.9039133191108704\n"
          ],
          "name": "stdout"
        }
      ]
    },
    {
      "cell_type": "markdown",
      "metadata": {
        "colab_type": "text",
        "id": "-m_pB7ak56Xp"
      },
      "source": [
        "With He Initialization, One hidden layer with 32 input node, Swish, Adam, with L1 regularizer"
      ]
    },
    {
      "cell_type": "code",
      "metadata": {
        "colab_type": "code",
        "id": "M6oQE6iD56Xp",
        "outputId": "41b55163-479a-4e64-c6c8-1a1d768368a6",
        "colab": {
          "base_uri": "https://localhost:8080/",
          "height": 1000
        }
      },
      "source": [
        "model = get_model(hidden_size=32,activation='swish',regularizer=regularizers.l1(0.01))\n",
        "\n",
        "model.compile(loss='categorical_crossentropy', optimizer='adam',\n",
        "              metrics=['accuracy'])\n",
        "\n",
        "model.fit(train_images, train_labels, batch_size=batch_size, epochs=nb_epoch,\n",
        "          verbose=1, validation_data=(test_images, test_labels))\n",
        "\n",
        "score = model.evaluate(test_images, test_labels, verbose=1)\n",
        "\n",
        "print(\"Accuracy:\", score[1])"
      ],
      "execution_count": 14,
      "outputs": [
        {
          "output_type": "stream",
          "text": [
            "Model: \"model_8\"\n",
            "_________________________________________________________________\n",
            "Layer (type)                 Output Shape              Param #   \n",
            "=================================================================\n",
            "input_8 (InputLayer)         (None, 28, 28, 1)         0         \n",
            "_________________________________________________________________\n",
            "flatten_8 (Flatten)          (None, 784)               0         \n",
            "_________________________________________________________________\n",
            "dense_18 (Dense)             (None, 32)                25120     \n",
            "_________________________________________________________________\n",
            "dense_19 (Dense)             (None, 10)                330       \n",
            "=================================================================\n",
            "Total params: 25,450\n",
            "Trainable params: 25,450\n",
            "Non-trainable params: 0\n",
            "_________________________________________________________________\n",
            "None\n",
            "Train on 13000 samples, validate on 5724 samples\n",
            "Epoch 1/20\n",
            "13000/13000 [==============================] - 0s 32us/step - loss: 5.6938 - accuracy: 0.7154 - val_loss: 1.9202 - val_accuracy: 0.8157\n",
            "Epoch 2/20\n",
            "13000/13000 [==============================] - 0s 25us/step - loss: 1.6869 - accuracy: 0.8213 - val_loss: 1.5451 - val_accuracy: 0.8316\n",
            "Epoch 3/20\n",
            "13000/13000 [==============================] - 0s 25us/step - loss: 1.4562 - accuracy: 0.8336 - val_loss: 1.3844 - val_accuracy: 0.8349\n",
            "Epoch 4/20\n",
            "13000/13000 [==============================] - 0s 26us/step - loss: 1.3258 - accuracy: 0.8395 - val_loss: 1.2800 - val_accuracy: 0.8387\n",
            "Epoch 5/20\n",
            "13000/13000 [==============================] - 0s 25us/step - loss: 1.2368 - accuracy: 0.8456 - val_loss: 1.2014 - val_accuracy: 0.8452\n",
            "Epoch 6/20\n",
            "13000/13000 [==============================] - 0s 26us/step - loss: 1.1694 - accuracy: 0.8508 - val_loss: 1.1470 - val_accuracy: 0.8491\n",
            "Epoch 7/20\n",
            "13000/13000 [==============================] - 0s 26us/step - loss: 1.1189 - accuracy: 0.8545 - val_loss: 1.1050 - val_accuracy: 0.8515\n",
            "Epoch 8/20\n",
            "13000/13000 [==============================] - 0s 25us/step - loss: 1.0792 - accuracy: 0.8555 - val_loss: 1.0699 - val_accuracy: 0.8510\n",
            "Epoch 9/20\n",
            "13000/13000 [==============================] - 0s 25us/step - loss: 1.0449 - accuracy: 0.8596 - val_loss: 1.0368 - val_accuracy: 0.8587\n",
            "Epoch 10/20\n",
            "13000/13000 [==============================] - 0s 26us/step - loss: 1.0161 - accuracy: 0.8602 - val_loss: 1.0176 - val_accuracy: 0.8578\n",
            "Epoch 11/20\n",
            "13000/13000 [==============================] - 0s 26us/step - loss: 0.9962 - accuracy: 0.8632 - val_loss: 1.0027 - val_accuracy: 0.8604\n",
            "Epoch 12/20\n",
            "13000/13000 [==============================] - 0s 26us/step - loss: 0.9767 - accuracy: 0.8661 - val_loss: 0.9780 - val_accuracy: 0.8622\n",
            "Epoch 13/20\n",
            "13000/13000 [==============================] - 0s 25us/step - loss: 0.9584 - accuracy: 0.8662 - val_loss: 0.9680 - val_accuracy: 0.8606\n",
            "Epoch 14/20\n",
            "13000/13000 [==============================] - 0s 28us/step - loss: 0.9453 - accuracy: 0.8691 - val_loss: 0.9505 - val_accuracy: 0.8604\n",
            "Epoch 15/20\n",
            "13000/13000 [==============================] - 0s 28us/step - loss: 0.9282 - accuracy: 0.8691 - val_loss: 0.9362 - val_accuracy: 0.8646\n",
            "Epoch 16/20\n",
            "13000/13000 [==============================] - 0s 29us/step - loss: 0.9162 - accuracy: 0.8705 - val_loss: 0.9256 - val_accuracy: 0.8648\n",
            "Epoch 17/20\n",
            "13000/13000 [==============================] - 0s 28us/step - loss: 0.9042 - accuracy: 0.8709 - val_loss: 0.9131 - val_accuracy: 0.8664\n",
            "Epoch 18/20\n",
            "13000/13000 [==============================] - 0s 29us/step - loss: 0.8954 - accuracy: 0.8718 - val_loss: 0.9087 - val_accuracy: 0.8711\n",
            "Epoch 19/20\n",
            "13000/13000 [==============================] - 0s 28us/step - loss: 0.8884 - accuracy: 0.8728 - val_loss: 0.9011 - val_accuracy: 0.8705\n",
            "Epoch 20/20\n",
            "13000/13000 [==============================] - 0s 28us/step - loss: 0.8777 - accuracy: 0.8748 - val_loss: 0.8917 - val_accuracy: 0.8714\n",
            "5724/5724 [==============================] - 0s 21us/step\n",
            "Accuracy: 0.8714185953140259\n"
          ],
          "name": "stdout"
        }
      ]
    },
    {
      "cell_type": "markdown",
      "metadata": {
        "colab_type": "text",
        "id": "5nFtO2cm56Xr"
      },
      "source": [
        "With He Initialization, One hidden layer with 32 input node, Swish, Adam, with L2 regularizer"
      ]
    },
    {
      "cell_type": "code",
      "metadata": {
        "colab_type": "code",
        "id": "gJcSOpZH56Xr",
        "outputId": "dae031dc-2b0e-4035-8589-6f666f354451",
        "colab": {
          "base_uri": "https://localhost:8080/",
          "height": 1000
        }
      },
      "source": [
        "model = get_model(hidden_size=32,activation='swish',regularizer=regularizers.l2(0.01))\n",
        "\n",
        "model.compile(loss='categorical_crossentropy', optimizer='adam',\n",
        "              metrics=['accuracy'])\n",
        "\n",
        "model.fit(train_images, train_labels, batch_size=batch_size, epochs=nb_epoch,\n",
        "          verbose=1, validation_data=(test_images, test_labels))\n",
        "\n",
        "score = model.evaluate(test_images, test_labels, verbose=1)\n",
        "\n",
        "print(\"Accuracy:\", score[1])"
      ],
      "execution_count": 15,
      "outputs": [
        {
          "output_type": "stream",
          "text": [
            "Model: \"model_9\"\n",
            "_________________________________________________________________\n",
            "Layer (type)                 Output Shape              Param #   \n",
            "=================================================================\n",
            "input_9 (InputLayer)         (None, 28, 28, 1)         0         \n",
            "_________________________________________________________________\n",
            "flatten_9 (Flatten)          (None, 784)               0         \n",
            "_________________________________________________________________\n",
            "dense_20 (Dense)             (None, 32)                25120     \n",
            "_________________________________________________________________\n",
            "dense_21 (Dense)             (None, 10)                330       \n",
            "=================================================================\n",
            "Total params: 25,450\n",
            "Trainable params: 25,450\n",
            "Non-trainable params: 0\n",
            "_________________________________________________________________\n",
            "None\n",
            "Train on 13000 samples, validate on 5724 samples\n",
            "Epoch 1/20\n",
            "13000/13000 [==============================] - 0s 30us/step - loss: 1.3551 - accuracy: 0.7856 - val_loss: 0.8810 - val_accuracy: 0.8662\n",
            "Epoch 2/20\n",
            "13000/13000 [==============================] - 0s 25us/step - loss: 0.7242 - accuracy: 0.8827 - val_loss: 0.6377 - val_accuracy: 0.8824\n",
            "Epoch 3/20\n",
            "13000/13000 [==============================] - 0s 24us/step - loss: 0.5716 - accuracy: 0.8914 - val_loss: 0.5552 - val_accuracy: 0.8913\n",
            "Epoch 4/20\n",
            "13000/13000 [==============================] - 0s 25us/step - loss: 0.5131 - accuracy: 0.8953 - val_loss: 0.5223 - val_accuracy: 0.8898\n",
            "Epoch 5/20\n",
            "13000/13000 [==============================] - 0s 24us/step - loss: 0.4872 - accuracy: 0.8972 - val_loss: 0.5029 - val_accuracy: 0.8940\n",
            "Epoch 6/20\n",
            "13000/13000 [==============================] - 0s 28us/step - loss: 0.4713 - accuracy: 0.8993 - val_loss: 0.4899 - val_accuracy: 0.8945\n",
            "Epoch 7/20\n",
            "13000/13000 [==============================] - 0s 28us/step - loss: 0.4572 - accuracy: 0.9009 - val_loss: 0.4814 - val_accuracy: 0.8990\n",
            "Epoch 8/20\n",
            "13000/13000 [==============================] - 0s 27us/step - loss: 0.4469 - accuracy: 0.9051 - val_loss: 0.4710 - val_accuracy: 0.8999\n",
            "Epoch 9/20\n",
            "13000/13000 [==============================] - 0s 26us/step - loss: 0.4403 - accuracy: 0.9041 - val_loss: 0.4710 - val_accuracy: 0.8983\n",
            "Epoch 10/20\n",
            "13000/13000 [==============================] - 0s 24us/step - loss: 0.4308 - accuracy: 0.9056 - val_loss: 0.4703 - val_accuracy: 0.8941\n",
            "Epoch 11/20\n",
            "13000/13000 [==============================] - 0s 24us/step - loss: 0.4268 - accuracy: 0.9078 - val_loss: 0.4590 - val_accuracy: 0.8943\n",
            "Epoch 12/20\n",
            "13000/13000 [==============================] - 0s 25us/step - loss: 0.4201 - accuracy: 0.9086 - val_loss: 0.4503 - val_accuracy: 0.9041\n",
            "Epoch 13/20\n",
            "13000/13000 [==============================] - 0s 24us/step - loss: 0.4146 - accuracy: 0.9113 - val_loss: 0.4562 - val_accuracy: 0.8985\n",
            "Epoch 14/20\n",
            "13000/13000 [==============================] - 0s 24us/step - loss: 0.4108 - accuracy: 0.9084 - val_loss: 0.4514 - val_accuracy: 0.9025\n",
            "Epoch 15/20\n",
            "13000/13000 [==============================] - 0s 25us/step - loss: 0.4073 - accuracy: 0.9105 - val_loss: 0.4460 - val_accuracy: 0.9016\n",
            "Epoch 16/20\n",
            "13000/13000 [==============================] - 0s 24us/step - loss: 0.4034 - accuracy: 0.9118 - val_loss: 0.4471 - val_accuracy: 0.9011\n",
            "Epoch 17/20\n",
            "13000/13000 [==============================] - 0s 24us/step - loss: 0.3995 - accuracy: 0.9120 - val_loss: 0.4372 - val_accuracy: 0.9022\n",
            "Epoch 18/20\n",
            "13000/13000 [==============================] - 0s 25us/step - loss: 0.3948 - accuracy: 0.9115 - val_loss: 0.4484 - val_accuracy: 0.8983\n",
            "Epoch 19/20\n",
            "13000/13000 [==============================] - 0s 24us/step - loss: 0.3936 - accuracy: 0.9127 - val_loss: 0.4362 - val_accuracy: 0.9036\n",
            "Epoch 20/20\n",
            "13000/13000 [==============================] - 0s 24us/step - loss: 0.3894 - accuracy: 0.9133 - val_loss: 0.4396 - val_accuracy: 0.9009\n",
            "5724/5724 [==============================] - 0s 21us/step\n",
            "Accuracy: 0.900943398475647\n"
          ],
          "name": "stdout"
        }
      ]
    },
    {
      "cell_type": "markdown",
      "metadata": {
        "colab_type": "text",
        "id": "3YmrB4Ep56Xt"
      },
      "source": [
        "With He Initialization, Two hidden layer with each layer contains 128 input node, Swish, Adam, without regularizer"
      ]
    },
    {
      "cell_type": "code",
      "metadata": {
        "colab_type": "code",
        "outputId": "4ef1fdad-19d5-4f62-d449-7542b38b5663",
        "id": "nOLarrTa56Xt",
        "colab": {
          "base_uri": "https://localhost:8080/",
          "height": 1000
        }
      },
      "source": [
        "model = get_model2(hidden_size=128,activation='swish')\n",
        "\n",
        "model.compile(loss='categorical_crossentropy', optimizer='adam',\n",
        "              metrics=['accuracy'])\n",
        "\n",
        "model.fit(train_images, train_labels, batch_size=batch_size, epochs=nb_epoch,\n",
        "          verbose=1, validation_data=(test_images, test_labels))\n",
        "\n",
        "score = model.evaluate(test_images, test_labels, verbose=1)\n",
        "\n",
        "print(\"Accuracy:\", score[1])\t  "
      ],
      "execution_count": 16,
      "outputs": [
        {
          "output_type": "stream",
          "text": [
            "Model: \"model_10\"\n",
            "_________________________________________________________________\n",
            "Layer (type)                 Output Shape              Param #   \n",
            "=================================================================\n",
            "input_10 (InputLayer)        (None, 28, 28, 1)         0         \n",
            "_________________________________________________________________\n",
            "flatten_10 (Flatten)         (None, 784)               0         \n",
            "_________________________________________________________________\n",
            "dense_22 (Dense)             (None, 128)               100480    \n",
            "_________________________________________________________________\n",
            "dense_23 (Dense)             (None, 128)               16512     \n",
            "_________________________________________________________________\n",
            "dense_24 (Dense)             (None, 10)                1290      \n",
            "=================================================================\n",
            "Total params: 118,282\n",
            "Trainable params: 118,282\n",
            "Non-trainable params: 0\n",
            "_________________________________________________________________\n",
            "None\n",
            "Train on 13000 samples, validate on 5724 samples\n",
            "Epoch 1/20\n",
            "13000/13000 [==============================] - 1s 48us/step - loss: 0.5725 - accuracy: 0.8390 - val_loss: 0.3667 - val_accuracy: 0.8898\n",
            "Epoch 2/20\n",
            "13000/13000 [==============================] - 1s 41us/step - loss: 0.3015 - accuracy: 0.9080 - val_loss: 0.3165 - val_accuracy: 0.9062\n",
            "Epoch 3/20\n",
            "13000/13000 [==============================] - 1s 43us/step - loss: 0.2413 - accuracy: 0.9250 - val_loss: 0.3035 - val_accuracy: 0.9107\n",
            "Epoch 4/20\n",
            "13000/13000 [==============================] - 1s 42us/step - loss: 0.1988 - accuracy: 0.9370 - val_loss: 0.2909 - val_accuracy: 0.9126\n",
            "Epoch 5/20\n",
            "13000/13000 [==============================] - 1s 42us/step - loss: 0.1661 - accuracy: 0.9471 - val_loss: 0.2957 - val_accuracy: 0.9139\n",
            "Epoch 6/20\n",
            "13000/13000 [==============================] - 1s 41us/step - loss: 0.1342 - accuracy: 0.9590 - val_loss: 0.2945 - val_accuracy: 0.9170\n",
            "Epoch 7/20\n",
            "13000/13000 [==============================] - 1s 43us/step - loss: 0.1082 - accuracy: 0.9685 - val_loss: 0.3069 - val_accuracy: 0.9140\n",
            "Epoch 8/20\n",
            "13000/13000 [==============================] - 1s 41us/step - loss: 0.0861 - accuracy: 0.9753 - val_loss: 0.3349 - val_accuracy: 0.9121\n",
            "Epoch 9/20\n",
            "13000/13000 [==============================] - 1s 43us/step - loss: 0.0667 - accuracy: 0.9818 - val_loss: 0.3317 - val_accuracy: 0.9158\n",
            "Epoch 10/20\n",
            "13000/13000 [==============================] - 1s 42us/step - loss: 0.0547 - accuracy: 0.9847 - val_loss: 0.3458 - val_accuracy: 0.9161\n",
            "Epoch 11/20\n",
            "13000/13000 [==============================] - 1s 41us/step - loss: 0.0444 - accuracy: 0.9886 - val_loss: 0.3603 - val_accuracy: 0.9161\n",
            "Epoch 12/20\n",
            "13000/13000 [==============================] - 1s 40us/step - loss: 0.0344 - accuracy: 0.9915 - val_loss: 0.3912 - val_accuracy: 0.9142\n",
            "Epoch 13/20\n",
            "13000/13000 [==============================] - 1s 40us/step - loss: 0.0332 - accuracy: 0.9911 - val_loss: 0.3885 - val_accuracy: 0.9182\n",
            "Epoch 14/20\n",
            "13000/13000 [==============================] - 1s 41us/step - loss: 0.0289 - accuracy: 0.9925 - val_loss: 0.3974 - val_accuracy: 0.9168\n",
            "Epoch 15/20\n",
            "13000/13000 [==============================] - 1s 40us/step - loss: 0.0236 - accuracy: 0.9942 - val_loss: 0.4077 - val_accuracy: 0.9163\n",
            "Epoch 16/20\n",
            "13000/13000 [==============================] - 1s 40us/step - loss: 0.0200 - accuracy: 0.9952 - val_loss: 0.4248 - val_accuracy: 0.9151\n",
            "Epoch 17/20\n",
            "13000/13000 [==============================] - 1s 39us/step - loss: 0.0164 - accuracy: 0.9962 - val_loss: 0.4374 - val_accuracy: 0.9170\n",
            "Epoch 18/20\n",
            "13000/13000 [==============================] - 1s 41us/step - loss: 0.0159 - accuracy: 0.9958 - val_loss: 0.4525 - val_accuracy: 0.9191\n",
            "Epoch 19/20\n",
            "13000/13000 [==============================] - 1s 39us/step - loss: 0.0175 - accuracy: 0.9957 - val_loss: 0.4518 - val_accuracy: 0.9200\n",
            "Epoch 20/20\n",
            "13000/13000 [==============================] - 1s 40us/step - loss: 0.0204 - accuracy: 0.9942 - val_loss: 0.4804 - val_accuracy: 0.9142\n",
            "5724/5724 [==============================] - 0s 26us/step\n",
            "Accuracy: 0.9142208099365234\n"
          ],
          "name": "stdout"
        }
      ]
    },
    {
      "cell_type": "markdown",
      "metadata": {
        "colab_type": "text",
        "id": "kpldpsbZ56Xv"
      },
      "source": [
        "With He Initialization, Two hidden layer with each layer contains 128 input node, Swish, Adam, with L1 regularizer"
      ]
    },
    {
      "cell_type": "code",
      "metadata": {
        "colab_type": "code",
        "id": "N-yd-IRQ56Xv",
        "outputId": "10cf4f5e-7857-408f-df74-8713a78b2779",
        "colab": {
          "base_uri": "https://localhost:8080/",
          "height": 1000
        }
      },
      "source": [
        "model = get_model2(hidden_size=128,regularizer=regularizers.l1(0.01))\n",
        "\n",
        "model.compile(loss='categorical_crossentropy', optimizer='adam',\n",
        "              metrics=['accuracy'])\n",
        "\n",
        "model.fit(train_images, train_labels, batch_size=batch_size, epochs=nb_epoch,\n",
        "          verbose=1, validation_data=(test_images, test_labels))\n",
        "\n",
        "score = model.evaluate(test_images, test_labels, verbose=1)\n",
        "\n",
        "print(\"Accuracy:\", score[1])"
      ],
      "execution_count": 17,
      "outputs": [
        {
          "output_type": "stream",
          "text": [
            "Model: \"model_11\"\n",
            "_________________________________________________________________\n",
            "Layer (type)                 Output Shape              Param #   \n",
            "=================================================================\n",
            "input_11 (InputLayer)        (None, 28, 28, 1)         0         \n",
            "_________________________________________________________________\n",
            "flatten_11 (Flatten)         (None, 784)               0         \n",
            "_________________________________________________________________\n",
            "dense_25 (Dense)             (None, 128)               100480    \n",
            "_________________________________________________________________\n",
            "dense_26 (Dense)             (None, 128)               16512     \n",
            "_________________________________________________________________\n",
            "dense_27 (Dense)             (None, 10)                1290      \n",
            "=================================================================\n",
            "Total params: 118,282\n",
            "Trainable params: 118,282\n",
            "Non-trainable params: 0\n",
            "_________________________________________________________________\n",
            "None\n",
            "Train on 13000 samples, validate on 5724 samples\n",
            "Epoch 1/20\n",
            "13000/13000 [==============================] - 1s 51us/step - loss: 27.1237 - accuracy: 0.6422 - val_loss: 7.5643 - val_accuracy: 0.7636\n",
            "Epoch 2/20\n",
            "13000/13000 [==============================] - 1s 43us/step - loss: 4.0540 - accuracy: 0.7810 - val_loss: 1.9653 - val_accuracy: 0.7914\n",
            "Epoch 3/20\n",
            "13000/13000 [==============================] - 1s 43us/step - loss: 1.6631 - accuracy: 0.8005 - val_loss: 1.5456 - val_accuracy: 0.8005\n",
            "Epoch 4/20\n",
            "13000/13000 [==============================] - 1s 42us/step - loss: 1.4778 - accuracy: 0.8118 - val_loss: 1.4461 - val_accuracy: 0.8097\n",
            "Epoch 5/20\n",
            "13000/13000 [==============================] - 1s 42us/step - loss: 1.4001 - accuracy: 0.8165 - val_loss: 1.3935 - val_accuracy: 0.8206\n",
            "Epoch 6/20\n",
            "13000/13000 [==============================] - 1s 42us/step - loss: 1.3460 - accuracy: 0.8227 - val_loss: 1.3447 - val_accuracy: 0.8192\n",
            "Epoch 7/20\n",
            "13000/13000 [==============================] - 1s 42us/step - loss: 1.3057 - accuracy: 0.8288 - val_loss: 1.3097 - val_accuracy: 0.8235\n",
            "Epoch 8/20\n",
            "13000/13000 [==============================] - 1s 43us/step - loss: 1.2733 - accuracy: 0.8352 - val_loss: 1.2787 - val_accuracy: 0.8340\n",
            "Epoch 9/20\n",
            "13000/13000 [==============================] - 1s 42us/step - loss: 1.2478 - accuracy: 0.8365 - val_loss: 1.2658 - val_accuracy: 0.8290\n",
            "Epoch 10/20\n",
            "13000/13000 [==============================] - 1s 43us/step - loss: 1.2253 - accuracy: 0.8418 - val_loss: 1.2403 - val_accuracy: 0.8295\n",
            "Epoch 11/20\n",
            "13000/13000 [==============================] - 1s 42us/step - loss: 1.2057 - accuracy: 0.8425 - val_loss: 1.2285 - val_accuracy: 0.8414\n",
            "Epoch 12/20\n",
            "13000/13000 [==============================] - 1s 43us/step - loss: 1.1867 - accuracy: 0.8462 - val_loss: 1.1969 - val_accuracy: 0.8449\n",
            "Epoch 13/20\n",
            "13000/13000 [==============================] - 1s 43us/step - loss: 1.1697 - accuracy: 0.8488 - val_loss: 1.1897 - val_accuracy: 0.8321\n",
            "Epoch 14/20\n",
            "13000/13000 [==============================] - 1s 43us/step - loss: 1.1566 - accuracy: 0.8478 - val_loss: 1.1806 - val_accuracy: 0.8450\n",
            "Epoch 15/20\n",
            "13000/13000 [==============================] - 1s 42us/step - loss: 1.1486 - accuracy: 0.8483 - val_loss: 1.1634 - val_accuracy: 0.8459\n",
            "Epoch 16/20\n",
            "13000/13000 [==============================] - 1s 42us/step - loss: 1.1324 - accuracy: 0.8524 - val_loss: 1.1652 - val_accuracy: 0.8447\n",
            "Epoch 17/20\n",
            "13000/13000 [==============================] - 1s 43us/step - loss: 1.1217 - accuracy: 0.8562 - val_loss: 1.1399 - val_accuracy: 0.8491\n",
            "Epoch 18/20\n",
            "13000/13000 [==============================] - 1s 42us/step - loss: 1.1087 - accuracy: 0.8598 - val_loss: 1.1324 - val_accuracy: 0.8546\n",
            "Epoch 19/20\n",
            "13000/13000 [==============================] - 1s 42us/step - loss: 1.1012 - accuracy: 0.8590 - val_loss: 1.1283 - val_accuracy: 0.8548\n",
            "Epoch 20/20\n",
            "13000/13000 [==============================] - 1s 42us/step - loss: 1.0948 - accuracy: 0.8599 - val_loss: 1.1149 - val_accuracy: 0.8557\n",
            "5724/5724 [==============================] - 0s 28us/step\n",
            "Accuracy: 0.8556953072547913\n"
          ],
          "name": "stdout"
        }
      ]
    },
    {
      "cell_type": "markdown",
      "metadata": {
        "colab_type": "text",
        "id": "EI_ugAky56Xx"
      },
      "source": [
        "With He Initialization, Two hidden layer with each layer contains 128 input node, Swish, Adam, with L2\n",
        "regularizer"
      ]
    },
    {
      "cell_type": "code",
      "metadata": {
        "colab_type": "code",
        "id": "E30bQUIi56Xy",
        "outputId": "131588d0-7ee1-4e32-d74a-008a06d128ca",
        "colab": {
          "base_uri": "https://localhost:8080/",
          "height": 1000
        }
      },
      "source": [
        "model = get_model2(hidden_size=128,regularizer=regularizers.l2(0.01))\n",
        "\n",
        "model.compile(loss='categorical_crossentropy', optimizer='adam',\n",
        "              metrics=['accuracy'])\n",
        "\n",
        "model.fit(train_images, train_labels, batch_size=batch_size, epochs=nb_epoch,\n",
        "          verbose=1, validation_data=(test_images, test_labels))\n",
        "\n",
        "score = model.evaluate(test_images, test_labels, verbose=1)\n",
        "\n",
        "print(\"Accuracy:\", score[1])"
      ],
      "execution_count": 18,
      "outputs": [
        {
          "output_type": "stream",
          "text": [
            "Model: \"model_12\"\n",
            "_________________________________________________________________\n",
            "Layer (type)                 Output Shape              Param #   \n",
            "=================================================================\n",
            "input_12 (InputLayer)        (None, 28, 28, 1)         0         \n",
            "_________________________________________________________________\n",
            "flatten_12 (Flatten)         (None, 784)               0         \n",
            "_________________________________________________________________\n",
            "dense_28 (Dense)             (None, 128)               100480    \n",
            "_________________________________________________________________\n",
            "dense_29 (Dense)             (None, 128)               16512     \n",
            "_________________________________________________________________\n",
            "dense_30 (Dense)             (None, 10)                1290      \n",
            "=================================================================\n",
            "Total params: 118,282\n",
            "Trainable params: 118,282\n",
            "Non-trainable params: 0\n",
            "_________________________________________________________________\n",
            "None\n",
            "Train on 13000 samples, validate on 5724 samples\n",
            "Epoch 1/20\n",
            "13000/13000 [==============================] - 1s 61us/step - loss: 3.7736 - accuracy: 0.8277 - val_loss: 1.9382 - val_accuracy: 0.8866\n",
            "Epoch 2/20\n",
            "13000/13000 [==============================] - 1s 51us/step - loss: 1.2758 - accuracy: 0.8938 - val_loss: 0.8843 - val_accuracy: 0.8947\n",
            "Epoch 3/20\n",
            "13000/13000 [==============================] - 1s 51us/step - loss: 0.7174 - accuracy: 0.8987 - val_loss: 0.6430 - val_accuracy: 0.8927\n",
            "Epoch 4/20\n",
            "13000/13000 [==============================] - 1s 53us/step - loss: 0.5783 - accuracy: 0.9005 - val_loss: 0.5800 - val_accuracy: 0.8917\n",
            "Epoch 5/20\n",
            "13000/13000 [==============================] - 1s 51us/step - loss: 0.5348 - accuracy: 0.9029 - val_loss: 0.5419 - val_accuracy: 0.9018\n",
            "Epoch 6/20\n",
            "13000/13000 [==============================] - 1s 52us/step - loss: 0.5099 - accuracy: 0.9056 - val_loss: 0.5284 - val_accuracy: 0.9032\n",
            "Epoch 7/20\n",
            "13000/13000 [==============================] - 1s 53us/step - loss: 0.4995 - accuracy: 0.9058 - val_loss: 0.5215 - val_accuracy: 0.8988\n",
            "Epoch 8/20\n",
            "13000/13000 [==============================] - 1s 52us/step - loss: 0.4853 - accuracy: 0.9084 - val_loss: 0.5095 - val_accuracy: 0.9034\n",
            "Epoch 9/20\n",
            "13000/13000 [==============================] - 1s 52us/step - loss: 0.4757 - accuracy: 0.9097 - val_loss: 0.5050 - val_accuracy: 0.9016\n",
            "Epoch 10/20\n",
            "13000/13000 [==============================] - 1s 51us/step - loss: 0.4657 - accuracy: 0.9118 - val_loss: 0.4951 - val_accuracy: 0.9036\n",
            "Epoch 11/20\n",
            "13000/13000 [==============================] - 1s 51us/step - loss: 0.4645 - accuracy: 0.9096 - val_loss: 0.4992 - val_accuracy: 0.9009\n",
            "Epoch 12/20\n",
            "13000/13000 [==============================] - 1s 52us/step - loss: 0.4536 - accuracy: 0.9127 - val_loss: 0.4950 - val_accuracy: 0.9013\n",
            "Epoch 13/20\n",
            "13000/13000 [==============================] - 1s 52us/step - loss: 0.4459 - accuracy: 0.9135 - val_loss: 0.4825 - val_accuracy: 0.9027\n",
            "Epoch 14/20\n",
            "13000/13000 [==============================] - 1s 51us/step - loss: 0.4394 - accuracy: 0.9166 - val_loss: 0.4803 - val_accuracy: 0.9057\n",
            "Epoch 15/20\n",
            "13000/13000 [==============================] - 1s 52us/step - loss: 0.4363 - accuracy: 0.9150 - val_loss: 0.4812 - val_accuracy: 0.9039\n",
            "Epoch 16/20\n",
            "13000/13000 [==============================] - 1s 51us/step - loss: 0.4299 - accuracy: 0.9174 - val_loss: 0.4768 - val_accuracy: 0.9046\n",
            "Epoch 17/20\n",
            "13000/13000 [==============================] - 1s 52us/step - loss: 0.4251 - accuracy: 0.9181 - val_loss: 0.4726 - val_accuracy: 0.9037\n",
            "Epoch 18/20\n",
            "13000/13000 [==============================] - 1s 52us/step - loss: 0.4228 - accuracy: 0.9176 - val_loss: 0.4773 - val_accuracy: 0.9044\n",
            "Epoch 19/20\n",
            "13000/13000 [==============================] - 1s 52us/step - loss: 0.4153 - accuracy: 0.9202 - val_loss: 0.4701 - val_accuracy: 0.9030\n",
            "Epoch 20/20\n",
            "13000/13000 [==============================] - 1s 53us/step - loss: 0.4106 - accuracy: 0.9205 - val_loss: 0.4702 - val_accuracy: 0.9044\n",
            "5724/5724 [==============================] - 0s 29us/step\n",
            "Accuracy: 0.9044374823570251\n"
          ],
          "name": "stdout"
        }
      ]
    },
    {
      "cell_type": "markdown",
      "metadata": {
        "id": "F29jFmyHkoHo",
        "colab_type": "text"
      },
      "source": [
        "To save the model"
      ]
    },
    {
      "cell_type": "code",
      "metadata": {
        "id": "GzllSm3SS292",
        "colab_type": "code",
        "colab": {}
      },
      "source": [
        "model.save(\"model.h5\")"
      ],
      "execution_count": 0,
      "outputs": []
    },
    {
      "cell_type": "markdown",
      "metadata": {
        "id": "R-lghkijkrzP",
        "colab_type": "text"
      },
      "source": [
        "To load the model and run inference"
      ]
    },
    {
      "cell_type": "code",
      "metadata": {
        "id": "1l6x0MXsUz1a",
        "colab_type": "code",
        "outputId": "fb740f35-c268-458f-ec1c-182afcef804a",
        "colab": {
          "base_uri": "https://localhost:8080/",
          "height": 340
        }
      },
      "source": [
        "# load and evaluate a saved model\n",
        "from numpy import loadtxt\n",
        "from keras.models import load_model\n",
        "\n",
        "# load model\n",
        "model = load_model('model.h5')\n",
        "# summarize model.\n",
        "model.summary()\n",
        "# load dataset\n",
        "_,_,test_images, test_labels  = load_data()\n",
        "\n",
        "# evaluate the model\n",
        "score = model.evaluate(test_images, test_labels, verbose=0)\n",
        "print(\"%s: %.2f%%\" % (model.metrics_names[1], score[1]*100))"
      ],
      "execution_count": 20,
      "outputs": [
        {
          "output_type": "stream",
          "text": [
            "Model: \"model_12\"\n",
            "_________________________________________________________________\n",
            "Layer (type)                 Output Shape              Param #   \n",
            "=================================================================\n",
            "input_12 (InputLayer)        (None, 28, 28, 1)         0         \n",
            "_________________________________________________________________\n",
            "flatten_12 (Flatten)         (None, 784)               0         \n",
            "_________________________________________________________________\n",
            "dense_28 (Dense)             (None, 128)               100480    \n",
            "_________________________________________________________________\n",
            "dense_29 (Dense)             (None, 128)               16512     \n",
            "_________________________________________________________________\n",
            "dense_30 (Dense)             (None, 10)                1290      \n",
            "=================================================================\n",
            "Total params: 118,282\n",
            "Trainable params: 118,282\n",
            "Non-trainable params: 0\n",
            "_________________________________________________________________\n",
            "accuracy: 92.61%\n"
          ],
          "name": "stdout"
        }
      ]
    },
    {
      "cell_type": "code",
      "metadata": {
        "id": "z9X1lCeDUwEN",
        "colab_type": "code",
        "colab": {}
      },
      "source": [
        "# make a prediction for a new image.\n",
        "from keras.preprocessing.image import load_img\n",
        "from keras.preprocessing.image import img_to_array\n",
        "from keras.models import load_model\n",
        "\n",
        "# load and prepare the image\n",
        "def load_image(filename):\n",
        "\t# load the image\n",
        "\timg = load_img(filename, grayscale=True, target_size=(28, 28))\n",
        "\t# convert to array\n",
        "\timg = img_to_array(img)\n",
        "\t# reshape into a single sample with 1 channel\n",
        "\timg = img.reshape(1, 28, 28, 1)\n",
        "\t# prepare pixel data\n",
        "\timg = img.astype('float32')\n",
        "\timg = img / 255.0\n",
        "\treturn img\n",
        "\n",
        "# load an image and predict the class\n",
        "def run_example():\n",
        "\t# load the image\n",
        "\timg = load_image('sample_image.png')\n",
        "\t# load model\n",
        "\tmodel = load_model('model.h5')\n",
        "\t# predict the class\n",
        "\tresult = model.predict_classes(img)\n",
        "\tprint(result[0])\n",
        "\n",
        "# entry point, run the example\n",
        "#run_example()"
      ],
      "execution_count": 0,
      "outputs": []
    }
  ]
}