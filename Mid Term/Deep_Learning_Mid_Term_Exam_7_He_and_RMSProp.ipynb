{
  "nbformat": 4,
  "nbformat_minor": 0,
  "metadata": {
    "colab": {
      "name": "Deep Learning Mid Term Exam #7 - He and RMSProp.ipynb",
      "provenance": []
    },
    "kernelspec": {
      "name": "python3",
      "display_name": "Python 3"
    }
  },
  "cells": [
    {
      "cell_type": "code",
      "metadata": {
        "id": "D468vNjsO308",
        "colab_type": "code",
        "colab": {
          "base_uri": "https://localhost:8080/",
          "height": 34
        },
        "outputId": "58baa24f-c388-4e4e-91f7-2b864ae84600"
      },
      "source": [
        "import numpy as np\n",
        "from tensorflow import keras\n",
        "import tensorflow as tf\n",
        "import matplotlib.pyplot as plt\n",
        "import scipy.io as sio\n",
        "from keras.utils import np_utils\n",
        "from keras.models import Model\n",
        "from keras.layers import Input, Dense, Flatten\n",
        "import keras.optimizers\n",
        "from keras import regularizers\n",
        "\n",
        "import time  # To time each epoch"
      ],
      "execution_count": 1,
      "outputs": [
        {
          "output_type": "stream",
          "text": [
            "Using TensorFlow backend.\n"
          ],
          "name": "stderr"
        }
      ]
    },
    {
      "cell_type": "code",
      "metadata": {
        "id": "lK_qEiqNO633",
        "colab_type": "code",
        "colab": {}
      },
      "source": [
        "def load_data(DATA_NAME = 'notMNIST_small.mat'):\n",
        "\n",
        "    rows, cols = 28, 28\n",
        "    nb_classes = 10\n",
        "        \n",
        "    mat = sio.loadmat(DATA_NAME)\n",
        "\n",
        "    X = mat['images']\n",
        "    Y = mat['labels']\n",
        "\n",
        "    # Move last column to front\n",
        "    X = np.rollaxis(X, 2)\n",
        "\n",
        "    # Reshape and format input\n",
        "    X = X.reshape(X.shape[0], rows, cols, 1)\n",
        "    X = X.astype('float32')\n",
        "    X -= np.mean(X,axis=0)\n",
        "    X /= 255.0\n",
        "\n",
        "    # Hot encoding\n",
        "    Y = Y.astype(int)\n",
        "    Y = np_utils.to_categorical(Y, nb_classes)\n",
        "\n",
        "    # Divide into test and train sets\n",
        "    perm = np.random.permutation(X.shape[0])\n",
        "\n",
        "    train_size = 13000\n",
        "\n",
        "    X_train = X[perm[:train_size]]\n",
        "    X_test = X[perm[train_size:]]\n",
        "\n",
        "    Y_train = Y[perm[:train_size]]\n",
        "    Y_test = Y[perm[train_size:]]\n",
        "\n",
        "    return (X_train, Y_train, X_test, Y_test)"
      ],
      "execution_count": 0,
      "outputs": []
    },
    {
      "cell_type": "code",
      "metadata": {
        "id": "wGyyIfJNukkY",
        "colab_type": "code",
        "colab": {}
      },
      "source": [
        "train_images, train_labels , test_images, test_labels  = load_data()\n",
        "\n",
        "batch_size = 128\n",
        "nb_epoch = 20"
      ],
      "execution_count": 0,
      "outputs": []
    },
    {
      "cell_type": "code",
      "metadata": {
        "id": "VP_KUWk1BjSm",
        "colab_type": "code",
        "colab": {}
      },
      "source": [
        "from keras.backend import sigmoid\n",
        "def swish(x, beta = 1):\n",
        "    return (x * sigmoid(beta * x))\n",
        "from keras.utils.generic_utils import get_custom_objects\n",
        "from keras.layers import Activation\n",
        "get_custom_objects().update({'swish': Activation(swish)})"
      ],
      "execution_count": 0,
      "outputs": []
    },
    {
      "cell_type": "code",
      "metadata": {
        "id": "tWA-I955wigw",
        "colab_type": "code",
        "colab": {}
      },
      "source": [
        "def get_model(activation='relu', initializer='he_uniform', hidden_size=128,regularizer=None):\n",
        "\n",
        "    # Model parameters\n",
        "    rows, cols = 28, 28\n",
        "    input_shape = (rows, cols, 1)\n",
        "\n",
        "    nb_classes = 10\n",
        "    \n",
        "    inp = Input(shape=input_shape)\n",
        "    flat = Flatten()(inp)\n",
        "    hidden_1 = Dense(hidden_size, activation=activation, kernel_initializer=initializer, \n",
        "                kernel_regularizer=regularizer)(flat)\n",
        "    out = Dense(nb_classes, activation='softmax')(hidden_1)\n",
        "\n",
        "    model = Model(inputs=inp, outputs=out)\n",
        "\n",
        "    print(model.summary())\n",
        "\n",
        "    return model"
      ],
      "execution_count": 0,
      "outputs": []
    },
    {
      "cell_type": "code",
      "metadata": {
        "id": "xPOcn8ZRtDeR",
        "colab_type": "code",
        "colab": {}
      },
      "source": [
        "def get_model2(activation='relu', initializer='he_uniform', hidden_size=128,regularizer=None):\n",
        "\n",
        "    # Model parameters\n",
        "    rows, cols = 28, 28\n",
        "    input_shape = (rows, cols, 1)\n",
        "\n",
        "    nb_classes = 10\n",
        "    \n",
        "    inp = Input(shape=input_shape)\n",
        "    flat = Flatten()(inp)\n",
        "    hidden_1 = Dense(hidden_size, activation=activation, kernel_initializer=initializer,\n",
        "                kernel_regularizer=regularizer)(flat)\n",
        "    hidden_2 = Dense(hidden_size, activation=activation, kernel_initializer=initializer,\n",
        "                kernel_regularizer=regularizer)(hidden_1)\n",
        "    out = Dense(nb_classes, activation='softmax')(hidden_2)\n",
        "\n",
        "    model = Model(inputs=inp, outputs=out)\n",
        "\n",
        "    print(model.summary())\n",
        "\n",
        "    return model"
      ],
      "execution_count": 0,
      "outputs": []
    },
    {
      "cell_type": "markdown",
      "metadata": {
        "id": "Q_VJDC2Ste7J",
        "colab_type": "text"
      },
      "source": [
        "With He Initialization, One hidden layer with 32 input node, ReLU, RMSProp, without regularizer"
      ]
    },
    {
      "cell_type": "code",
      "metadata": {
        "id": "fMrMvX5KWy01",
        "colab_type": "code",
        "outputId": "342430bb-63e9-467f-dcd7-1e6fac05f3ce",
        "colab": {
          "base_uri": "https://localhost:8080/",
          "height": 1000
        }
      },
      "source": [
        "model = get_model(hidden_size=32)\n",
        "\n",
        "model.compile(loss='categorical_crossentropy', optimizer='rmsprop',\n",
        "              metrics=['accuracy'])\n",
        "\n",
        "model.fit(train_images, train_labels, batch_size=batch_size, epochs=nb_epoch,\n",
        "          verbose=1, validation_data=(test_images, test_labels))\n",
        "\n",
        "score = model.evaluate(test_images, test_labels, verbose=1)\n",
        "\n",
        "print(\"Accuracy:\", score[1])\t  "
      ],
      "execution_count": 7,
      "outputs": [
        {
          "output_type": "stream",
          "text": [
            "Model: \"model_1\"\n",
            "_________________________________________________________________\n",
            "Layer (type)                 Output Shape              Param #   \n",
            "=================================================================\n",
            "input_1 (InputLayer)         (None, 28, 28, 1)         0         \n",
            "_________________________________________________________________\n",
            "flatten_1 (Flatten)          (None, 784)               0         \n",
            "_________________________________________________________________\n",
            "dense_1 (Dense)              (None, 32)                25120     \n",
            "_________________________________________________________________\n",
            "dense_2 (Dense)              (None, 10)                330       \n",
            "=================================================================\n",
            "Total params: 25,450\n",
            "Trainable params: 25,450\n",
            "Non-trainable params: 0\n",
            "_________________________________________________________________\n",
            "None\n",
            "Train on 13000 samples, validate on 5724 samples\n",
            "Epoch 1/20\n",
            "13000/13000 [==============================] - 0s 29us/step - loss: 0.7168 - accuracy: 0.8158 - val_loss: 0.4496 - val_accuracy: 0.8730\n",
            "Epoch 2/20\n",
            "13000/13000 [==============================] - 0s 22us/step - loss: 0.3862 - accuracy: 0.8916 - val_loss: 0.3823 - val_accuracy: 0.8913\n",
            "Epoch 3/20\n",
            "13000/13000 [==============================] - 0s 21us/step - loss: 0.3286 - accuracy: 0.9051 - val_loss: 0.3637 - val_accuracy: 0.8936\n",
            "Epoch 4/20\n",
            "13000/13000 [==============================] - 0s 21us/step - loss: 0.2971 - accuracy: 0.9160 - val_loss: 0.3476 - val_accuracy: 0.8985\n",
            "Epoch 5/20\n",
            "13000/13000 [==============================] - 0s 21us/step - loss: 0.2730 - accuracy: 0.9207 - val_loss: 0.3408 - val_accuracy: 0.8981\n",
            "Epoch 6/20\n",
            "13000/13000 [==============================] - 0s 22us/step - loss: 0.2528 - accuracy: 0.9262 - val_loss: 0.3390 - val_accuracy: 0.9016\n",
            "Epoch 7/20\n",
            "13000/13000 [==============================] - 0s 21us/step - loss: 0.2378 - accuracy: 0.9307 - val_loss: 0.3323 - val_accuracy: 0.9008\n",
            "Epoch 8/20\n",
            "13000/13000 [==============================] - 0s 22us/step - loss: 0.2240 - accuracy: 0.9352 - val_loss: 0.3322 - val_accuracy: 0.8999\n",
            "Epoch 9/20\n",
            "13000/13000 [==============================] - 0s 22us/step - loss: 0.2111 - accuracy: 0.9382 - val_loss: 0.3347 - val_accuracy: 0.9011\n",
            "Epoch 10/20\n",
            "13000/13000 [==============================] - 0s 21us/step - loss: 0.2005 - accuracy: 0.9436 - val_loss: 0.3361 - val_accuracy: 0.9015\n",
            "Epoch 11/20\n",
            "13000/13000 [==============================] - 0s 22us/step - loss: 0.1901 - accuracy: 0.9460 - val_loss: 0.3315 - val_accuracy: 0.9055\n",
            "Epoch 12/20\n",
            "13000/13000 [==============================] - 0s 22us/step - loss: 0.1811 - accuracy: 0.9482 - val_loss: 0.3356 - val_accuracy: 0.9025\n",
            "Epoch 13/20\n",
            "13000/13000 [==============================] - 0s 21us/step - loss: 0.1725 - accuracy: 0.9515 - val_loss: 0.3380 - val_accuracy: 0.9039\n",
            "Epoch 14/20\n",
            "13000/13000 [==============================] - 0s 22us/step - loss: 0.1630 - accuracy: 0.9547 - val_loss: 0.3395 - val_accuracy: 0.9048\n",
            "Epoch 15/20\n",
            "13000/13000 [==============================] - 0s 21us/step - loss: 0.1561 - accuracy: 0.9569 - val_loss: 0.3448 - val_accuracy: 0.9036\n",
            "Epoch 16/20\n",
            "13000/13000 [==============================] - 0s 22us/step - loss: 0.1478 - accuracy: 0.9595 - val_loss: 0.3411 - val_accuracy: 0.9048\n",
            "Epoch 17/20\n",
            "13000/13000 [==============================] - 0s 22us/step - loss: 0.1413 - accuracy: 0.9615 - val_loss: 0.3538 - val_accuracy: 0.9023\n",
            "Epoch 18/20\n",
            "13000/13000 [==============================] - 0s 21us/step - loss: 0.1350 - accuracy: 0.9632 - val_loss: 0.3484 - val_accuracy: 0.9037\n",
            "Epoch 19/20\n",
            "13000/13000 [==============================] - 0s 22us/step - loss: 0.1281 - accuracy: 0.9655 - val_loss: 0.3548 - val_accuracy: 0.9015\n",
            "Epoch 20/20\n",
            "13000/13000 [==============================] - 0s 21us/step - loss: 0.1226 - accuracy: 0.9672 - val_loss: 0.3611 - val_accuracy: 0.9020\n",
            "5724/5724 [==============================] - 0s 20us/step\n",
            "Accuracy: 0.901991605758667\n"
          ],
          "name": "stdout"
        }
      ]
    },
    {
      "cell_type": "markdown",
      "metadata": {
        "id": "v3U6ONn94LXA",
        "colab_type": "text"
      },
      "source": [
        "With He Initialization, One hidden layer with 32 input node, ReLU, RMSProp, with L1 regularizer"
      ]
    },
    {
      "cell_type": "code",
      "metadata": {
        "id": "de7jHrz83AX4",
        "colab_type": "code",
        "colab": {
          "base_uri": "https://localhost:8080/",
          "height": 1000
        },
        "outputId": "3e1eec18-c743-4339-fa77-f50bfe1383bd"
      },
      "source": [
        "model = get_model(hidden_size=32,regularizer=regularizers.l1(0.01))\n",
        "\n",
        "model.compile(loss='categorical_crossentropy', optimizer='rmsprop',\n",
        "              metrics=['accuracy'])\n",
        "\n",
        "model.fit(train_images, train_labels, batch_size=batch_size, epochs=nb_epoch,\n",
        "          verbose=1, validation_data=(test_images, test_labels))\n",
        "\n",
        "score = model.evaluate(test_images, test_labels, verbose=1)\n",
        "\n",
        "print(\"Accuracy:\", score[1])"
      ],
      "execution_count": 8,
      "outputs": [
        {
          "output_type": "stream",
          "text": [
            "Model: \"model_2\"\n",
            "_________________________________________________________________\n",
            "Layer (type)                 Output Shape              Param #   \n",
            "=================================================================\n",
            "input_2 (InputLayer)         (None, 28, 28, 1)         0         \n",
            "_________________________________________________________________\n",
            "flatten_2 (Flatten)          (None, 784)               0         \n",
            "_________________________________________________________________\n",
            "dense_3 (Dense)              (None, 32)                25120     \n",
            "_________________________________________________________________\n",
            "dense_4 (Dense)              (None, 10)                330       \n",
            "=================================================================\n",
            "Total params: 25,450\n",
            "Trainable params: 25,450\n",
            "Non-trainable params: 0\n",
            "_________________________________________________________________\n",
            "None\n",
            "Train on 13000 samples, validate on 5724 samples\n",
            "Epoch 1/20\n",
            "13000/13000 [==============================] - 0s 27us/step - loss: 4.7679 - accuracy: 0.7541 - val_loss: 1.8121 - val_accuracy: 0.8241\n",
            "Epoch 2/20\n",
            "13000/13000 [==============================] - 0s 22us/step - loss: 1.6256 - accuracy: 0.8290 - val_loss: 1.5302 - val_accuracy: 0.8279\n",
            "Epoch 3/20\n",
            "13000/13000 [==============================] - 0s 21us/step - loss: 1.4173 - accuracy: 0.8369 - val_loss: 1.4155 - val_accuracy: 0.8333\n",
            "Epoch 4/20\n",
            "13000/13000 [==============================] - 0s 22us/step - loss: 1.2948 - accuracy: 0.8466 - val_loss: 1.3409 - val_accuracy: 0.8361\n",
            "Epoch 5/20\n",
            "13000/13000 [==============================] - 0s 21us/step - loss: 1.2177 - accuracy: 0.8505 - val_loss: 1.2169 - val_accuracy: 0.8438\n",
            "Epoch 6/20\n",
            "13000/13000 [==============================] - 0s 21us/step - loss: 1.1646 - accuracy: 0.8512 - val_loss: 1.1768 - val_accuracy: 0.8485\n",
            "Epoch 7/20\n",
            "13000/13000 [==============================] - 0s 21us/step - loss: 1.1277 - accuracy: 0.8517 - val_loss: 1.1943 - val_accuracy: 0.8414\n",
            "Epoch 8/20\n",
            "13000/13000 [==============================] - 0s 22us/step - loss: 1.0981 - accuracy: 0.8562 - val_loss: 1.1234 - val_accuracy: 0.8424\n",
            "Epoch 9/20\n",
            "13000/13000 [==============================] - 0s 21us/step - loss: 1.0703 - accuracy: 0.8567 - val_loss: 1.1090 - val_accuracy: 0.8459\n",
            "Epoch 10/20\n",
            "13000/13000 [==============================] - 0s 21us/step - loss: 1.0528 - accuracy: 0.8561 - val_loss: 1.1534 - val_accuracy: 0.8300\n",
            "Epoch 11/20\n",
            "13000/13000 [==============================] - 0s 21us/step - loss: 1.0331 - accuracy: 0.8610 - val_loss: 1.0394 - val_accuracy: 0.8543\n",
            "Epoch 12/20\n",
            "13000/13000 [==============================] - 0s 21us/step - loss: 1.0262 - accuracy: 0.8582 - val_loss: 1.0382 - val_accuracy: 0.8541\n",
            "Epoch 13/20\n",
            "13000/13000 [==============================] - 0s 20us/step - loss: 1.0076 - accuracy: 0.8581 - val_loss: 1.0623 - val_accuracy: 0.8349\n",
            "Epoch 14/20\n",
            "13000/13000 [==============================] - 0s 22us/step - loss: 1.0015 - accuracy: 0.8607 - val_loss: 1.0346 - val_accuracy: 0.8510\n",
            "Epoch 15/20\n",
            "13000/13000 [==============================] - 0s 24us/step - loss: 0.9910 - accuracy: 0.8586 - val_loss: 1.0253 - val_accuracy: 0.8520\n",
            "Epoch 16/20\n",
            "13000/13000 [==============================] - 0s 21us/step - loss: 0.9794 - accuracy: 0.8632 - val_loss: 1.0420 - val_accuracy: 0.8445\n",
            "Epoch 17/20\n",
            "13000/13000 [==============================] - 0s 21us/step - loss: 0.9679 - accuracy: 0.8657 - val_loss: 1.0863 - val_accuracy: 0.8398\n",
            "Epoch 18/20\n",
            "13000/13000 [==============================] - 0s 21us/step - loss: 0.9663 - accuracy: 0.8615 - val_loss: 1.0147 - val_accuracy: 0.8463\n",
            "Epoch 19/20\n",
            "13000/13000 [==============================] - 0s 22us/step - loss: 0.9579 - accuracy: 0.8632 - val_loss: 1.0433 - val_accuracy: 0.8459\n",
            "Epoch 20/20\n",
            "13000/13000 [==============================] - 0s 21us/step - loss: 0.9561 - accuracy: 0.8630 - val_loss: 1.0141 - val_accuracy: 0.8466\n",
            "5724/5724 [==============================] - 0s 19us/step\n",
            "Accuracy: 0.8466107845306396\n"
          ],
          "name": "stdout"
        }
      ]
    },
    {
      "cell_type": "markdown",
      "metadata": {
        "id": "IIXS1TtK3KAv",
        "colab_type": "text"
      },
      "source": [
        "With He Initialization, One hidden layer with 32 input node, ReLU, RMSProp, with L2 regularizer"
      ]
    },
    {
      "cell_type": "code",
      "metadata": {
        "id": "ZVA_LNgA3_I3",
        "colab_type": "code",
        "colab": {
          "base_uri": "https://localhost:8080/",
          "height": 1000
        },
        "outputId": "a4ed727e-6f3d-4944-e61c-271b9df144d8"
      },
      "source": [
        "model = get_model(hidden_size=32,regularizer=regularizers.l2(0.01))\n",
        "\n",
        "model.compile(loss='categorical_crossentropy', optimizer='rmsprop',\n",
        "              metrics=['accuracy'])\n",
        "\n",
        "model.fit(train_images, train_labels, batch_size=batch_size, epochs=nb_epoch,\n",
        "          verbose=1, validation_data=(test_images, test_labels))\n",
        "\n",
        "score = model.evaluate(test_images, test_labels, verbose=1)\n",
        "\n",
        "print(\"Accuracy:\", score[1])"
      ],
      "execution_count": 9,
      "outputs": [
        {
          "output_type": "stream",
          "text": [
            "Model: \"model_3\"\n",
            "_________________________________________________________________\n",
            "Layer (type)                 Output Shape              Param #   \n",
            "=================================================================\n",
            "input_3 (InputLayer)         (None, 28, 28, 1)         0         \n",
            "_________________________________________________________________\n",
            "flatten_3 (Flatten)          (None, 784)               0         \n",
            "_________________________________________________________________\n",
            "dense_5 (Dense)              (None, 32)                25120     \n",
            "_________________________________________________________________\n",
            "dense_6 (Dense)              (None, 10)                330       \n",
            "=================================================================\n",
            "Total params: 25,450\n",
            "Trainable params: 25,450\n",
            "Non-trainable params: 0\n",
            "_________________________________________________________________\n",
            "None\n",
            "Train on 13000 samples, validate on 5724 samples\n",
            "Epoch 1/20\n",
            "13000/13000 [==============================] - 0s 26us/step - loss: 1.1988 - accuracy: 0.8189 - val_loss: 0.7982 - val_accuracy: 0.8793\n",
            "Epoch 2/20\n",
            "13000/13000 [==============================] - 0s 22us/step - loss: 0.6658 - accuracy: 0.8848 - val_loss: 0.5873 - val_accuracy: 0.8870\n",
            "Epoch 3/20\n",
            "13000/13000 [==============================] - 0s 21us/step - loss: 0.5362 - accuracy: 0.8948 - val_loss: 0.5245 - val_accuracy: 0.8926\n",
            "Epoch 4/20\n",
            "13000/13000 [==============================] - 0s 22us/step - loss: 0.4846 - accuracy: 0.8998 - val_loss: 0.4948 - val_accuracy: 0.8948\n",
            "Epoch 5/20\n",
            "13000/13000 [==============================] - 0s 20us/step - loss: 0.4564 - accuracy: 0.9025 - val_loss: 0.4771 - val_accuracy: 0.8964\n",
            "Epoch 6/20\n",
            "13000/13000 [==============================] - 0s 21us/step - loss: 0.4378 - accuracy: 0.9072 - val_loss: 0.4665 - val_accuracy: 0.8962\n",
            "Epoch 7/20\n",
            "13000/13000 [==============================] - 0s 21us/step - loss: 0.4262 - accuracy: 0.9071 - val_loss: 0.4596 - val_accuracy: 0.8974\n",
            "Epoch 8/20\n",
            "13000/13000 [==============================] - 0s 21us/step - loss: 0.4153 - accuracy: 0.9079 - val_loss: 0.4618 - val_accuracy: 0.8964\n",
            "Epoch 9/20\n",
            "13000/13000 [==============================] - 0s 21us/step - loss: 0.4076 - accuracy: 0.9109 - val_loss: 0.4453 - val_accuracy: 0.8957\n",
            "Epoch 10/20\n",
            "13000/13000 [==============================] - 0s 21us/step - loss: 0.4001 - accuracy: 0.9117 - val_loss: 0.4410 - val_accuracy: 0.8973\n",
            "Epoch 11/20\n",
            "13000/13000 [==============================] - 0s 21us/step - loss: 0.3941 - accuracy: 0.9142 - val_loss: 0.4395 - val_accuracy: 0.8948\n",
            "Epoch 12/20\n",
            "13000/13000 [==============================] - 0s 22us/step - loss: 0.3885 - accuracy: 0.9138 - val_loss: 0.4322 - val_accuracy: 0.9011\n",
            "Epoch 13/20\n",
            "13000/13000 [==============================] - 0s 20us/step - loss: 0.3835 - accuracy: 0.9145 - val_loss: 0.4375 - val_accuracy: 0.8992\n",
            "Epoch 14/20\n",
            "13000/13000 [==============================] - 0s 21us/step - loss: 0.3787 - accuracy: 0.9162 - val_loss: 0.4401 - val_accuracy: 0.8969\n",
            "Epoch 15/20\n",
            "13000/13000 [==============================] - 0s 22us/step - loss: 0.3732 - accuracy: 0.9171 - val_loss: 0.4365 - val_accuracy: 0.8940\n",
            "Epoch 16/20\n",
            "13000/13000 [==============================] - 0s 21us/step - loss: 0.3705 - accuracy: 0.9184 - val_loss: 0.4285 - val_accuracy: 0.8999\n",
            "Epoch 17/20\n",
            "13000/13000 [==============================] - 0s 20us/step - loss: 0.3668 - accuracy: 0.9168 - val_loss: 0.4338 - val_accuracy: 0.8952\n",
            "Epoch 18/20\n",
            "13000/13000 [==============================] - 0s 21us/step - loss: 0.3648 - accuracy: 0.9195 - val_loss: 0.4271 - val_accuracy: 0.9002\n",
            "Epoch 19/20\n",
            "13000/13000 [==============================] - 0s 22us/step - loss: 0.3627 - accuracy: 0.9195 - val_loss: 0.4402 - val_accuracy: 0.8950\n",
            "Epoch 20/20\n",
            "13000/13000 [==============================] - 0s 21us/step - loss: 0.3578 - accuracy: 0.9203 - val_loss: 0.4248 - val_accuracy: 0.8992\n",
            "5724/5724 [==============================] - 0s 20us/step\n",
            "Accuracy: 0.8991963863372803\n"
          ],
          "name": "stdout"
        }
      ]
    },
    {
      "cell_type": "markdown",
      "metadata": {
        "colab_type": "text",
        "id": "dw2mZ3PL4Vpq"
      },
      "source": [
        "With He Initialization, Two hidden layer with each layer contains 128 input node, ReLU, RMSProp, without regularizer"
      ]
    },
    {
      "cell_type": "code",
      "metadata": {
        "colab_type": "code",
        "outputId": "ac75f3e3-e8d0-4add-f261-5d41537780b8",
        "id": "M1uISYFs4Vpr",
        "colab": {
          "base_uri": "https://localhost:8080/",
          "height": 1000
        }
      },
      "source": [
        "model = get_model2(hidden_size=128)\n",
        "\n",
        "model.compile(loss='categorical_crossentropy', optimizer='rmsprop',\n",
        "              metrics=['accuracy'])\n",
        "\n",
        "model.fit(train_images, train_labels, batch_size=batch_size, epochs=nb_epoch,\n",
        "          verbose=1, validation_data=(test_images, test_labels))\n",
        "\n",
        "score = model.evaluate(test_images, test_labels, verbose=1)\n",
        "\n",
        "print(\"Accuracy:\", score[1])\t  "
      ],
      "execution_count": 10,
      "outputs": [
        {
          "output_type": "stream",
          "text": [
            "Model: \"model_4\"\n",
            "_________________________________________________________________\n",
            "Layer (type)                 Output Shape              Param #   \n",
            "=================================================================\n",
            "input_4 (InputLayer)         (None, 28, 28, 1)         0         \n",
            "_________________________________________________________________\n",
            "flatten_4 (Flatten)          (None, 784)               0         \n",
            "_________________________________________________________________\n",
            "dense_7 (Dense)              (None, 128)               100480    \n",
            "_________________________________________________________________\n",
            "dense_8 (Dense)              (None, 128)               16512     \n",
            "_________________________________________________________________\n",
            "dense_9 (Dense)              (None, 10)                1290      \n",
            "=================================================================\n",
            "Total params: 118,282\n",
            "Trainable params: 118,282\n",
            "Non-trainable params: 0\n",
            "_________________________________________________________________\n",
            "None\n",
            "Train on 13000 samples, validate on 5724 samples\n",
            "Epoch 1/20\n",
            "13000/13000 [==============================] - 1s 43us/step - loss: 0.5038 - accuracy: 0.8537 - val_loss: 0.3655 - val_accuracy: 0.8901\n",
            "Epoch 2/20\n",
            "13000/13000 [==============================] - 0s 36us/step - loss: 0.2920 - accuracy: 0.9138 - val_loss: 0.3348 - val_accuracy: 0.8992\n",
            "Epoch 3/20\n",
            "13000/13000 [==============================] - 0s 37us/step - loss: 0.2327 - accuracy: 0.9325 - val_loss: 0.3239 - val_accuracy: 0.9050\n",
            "Epoch 4/20\n",
            "13000/13000 [==============================] - 0s 37us/step - loss: 0.1901 - accuracy: 0.9431 - val_loss: 0.3278 - val_accuracy: 0.9030\n",
            "Epoch 5/20\n",
            "13000/13000 [==============================] - 0s 37us/step - loss: 0.1568 - accuracy: 0.9535 - val_loss: 0.3123 - val_accuracy: 0.9079\n",
            "Epoch 6/20\n",
            "13000/13000 [==============================] - 0s 37us/step - loss: 0.1288 - accuracy: 0.9607 - val_loss: 0.3546 - val_accuracy: 0.9022\n",
            "Epoch 7/20\n",
            "13000/13000 [==============================] - 0s 38us/step - loss: 0.1083 - accuracy: 0.9672 - val_loss: 0.3526 - val_accuracy: 0.9048\n",
            "Epoch 8/20\n",
            "13000/13000 [==============================] - 0s 38us/step - loss: 0.0905 - accuracy: 0.9728 - val_loss: 0.3417 - val_accuracy: 0.9104\n",
            "Epoch 9/20\n",
            "13000/13000 [==============================] - 0s 38us/step - loss: 0.0706 - accuracy: 0.9801 - val_loss: 0.3939 - val_accuracy: 0.8952\n",
            "Epoch 10/20\n",
            "13000/13000 [==============================] - 0s 38us/step - loss: 0.0579 - accuracy: 0.9832 - val_loss: 0.3808 - val_accuracy: 0.9057\n",
            "Epoch 11/20\n",
            "13000/13000 [==============================] - 0s 38us/step - loss: 0.0504 - accuracy: 0.9859 - val_loss: 0.3962 - val_accuracy: 0.9085\n",
            "Epoch 12/20\n",
            "13000/13000 [==============================] - 0s 38us/step - loss: 0.0413 - accuracy: 0.9876 - val_loss: 0.4091 - val_accuracy: 0.9090\n",
            "Epoch 13/20\n",
            "13000/13000 [==============================] - 0s 38us/step - loss: 0.0375 - accuracy: 0.9885 - val_loss: 0.4131 - val_accuracy: 0.9128\n",
            "Epoch 14/20\n",
            "13000/13000 [==============================] - 0s 36us/step - loss: 0.0327 - accuracy: 0.9911 - val_loss: 0.4437 - val_accuracy: 0.9097\n",
            "Epoch 15/20\n",
            "13000/13000 [==============================] - 0s 37us/step - loss: 0.0290 - accuracy: 0.9915 - val_loss: 0.5065 - val_accuracy: 0.9039\n",
            "Epoch 16/20\n",
            "13000/13000 [==============================] - 0s 37us/step - loss: 0.0263 - accuracy: 0.9919 - val_loss: 0.4693 - val_accuracy: 0.9086\n",
            "Epoch 17/20\n",
            "13000/13000 [==============================] - 0s 38us/step - loss: 0.0251 - accuracy: 0.9928 - val_loss: 0.5005 - val_accuracy: 0.9078\n",
            "Epoch 18/20\n",
            "13000/13000 [==============================] - 1s 39us/step - loss: 0.0236 - accuracy: 0.9928 - val_loss: 0.4944 - val_accuracy: 0.9090\n",
            "Epoch 19/20\n",
            "13000/13000 [==============================] - 0s 37us/step - loss: 0.0213 - accuracy: 0.9932 - val_loss: 0.5156 - val_accuracy: 0.9123\n",
            "Epoch 20/20\n",
            "13000/13000 [==============================] - 0s 37us/step - loss: 0.0190 - accuracy: 0.9938 - val_loss: 0.5213 - val_accuracy: 0.9113\n",
            "5724/5724 [==============================] - 0s 24us/step\n",
            "Accuracy: 0.9112508893013\n"
          ],
          "name": "stdout"
        }
      ]
    },
    {
      "cell_type": "markdown",
      "metadata": {
        "colab_type": "text",
        "id": "Or2DziC74Vpv"
      },
      "source": [
        "With He Initialization, Two hidden layer with each layer contains 128 input node, ReLU, RMSProp, with L1 regularizer"
      ]
    },
    {
      "cell_type": "code",
      "metadata": {
        "colab_type": "code",
        "id": "FVp1SNIJ4Vpv",
        "colab": {
          "base_uri": "https://localhost:8080/",
          "height": 1000
        },
        "outputId": "efe804a2-54ce-4a3c-e583-7da9272b60e3"
      },
      "source": [
        "model = get_model2(hidden_size=128,regularizer=regularizers.l1(0.01))\n",
        "\n",
        "model.compile(loss='categorical_crossentropy', optimizer='rmsprop',\n",
        "              metrics=['accuracy'])\n",
        "\n",
        "model.fit(train_images, train_labels, batch_size=batch_size, epochs=nb_epoch,\n",
        "          verbose=1, validation_data=(test_images, test_labels))\n",
        "\n",
        "score = model.evaluate(test_images, test_labels, verbose=1)\n",
        "\n",
        "print(\"Accuracy:\", score[1])"
      ],
      "execution_count": 11,
      "outputs": [
        {
          "output_type": "stream",
          "text": [
            "Model: \"model_5\"\n",
            "_________________________________________________________________\n",
            "Layer (type)                 Output Shape              Param #   \n",
            "=================================================================\n",
            "input_5 (InputLayer)         (None, 28, 28, 1)         0         \n",
            "_________________________________________________________________\n",
            "flatten_5 (Flatten)          (None, 784)               0         \n",
            "_________________________________________________________________\n",
            "dense_10 (Dense)             (None, 128)               100480    \n",
            "_________________________________________________________________\n",
            "dense_11 (Dense)             (None, 128)               16512     \n",
            "_________________________________________________________________\n",
            "dense_12 (Dense)             (None, 10)                1290      \n",
            "=================================================================\n",
            "Total params: 118,282\n",
            "Trainable params: 118,282\n",
            "Non-trainable params: 0\n",
            "_________________________________________________________________\n",
            "None\n",
            "Train on 13000 samples, validate on 5724 samples\n",
            "Epoch 1/20\n",
            "13000/13000 [==============================] - 1s 47us/step - loss: 22.7144 - accuracy: 0.6864 - val_loss: 6.9773 - val_accuracy: 0.7582\n",
            "Epoch 2/20\n",
            "13000/13000 [==============================] - 1s 41us/step - loss: 3.9439 - accuracy: 0.7800 - val_loss: 2.2523 - val_accuracy: 0.8033\n",
            "Epoch 3/20\n",
            "13000/13000 [==============================] - 1s 40us/step - loss: 2.0941 - accuracy: 0.8202 - val_loss: 2.0157 - val_accuracy: 0.8246\n",
            "Epoch 4/20\n",
            "13000/13000 [==============================] - 1s 40us/step - loss: 1.9322 - accuracy: 0.8363 - val_loss: 1.8911 - val_accuracy: 0.8360\n",
            "Epoch 5/20\n",
            "13000/13000 [==============================] - 1s 39us/step - loss: 1.8392 - accuracy: 0.8471 - val_loss: 1.8241 - val_accuracy: 0.8445\n",
            "Epoch 6/20\n",
            "13000/13000 [==============================] - 1s 40us/step - loss: 1.7771 - accuracy: 0.8527 - val_loss: 1.7949 - val_accuracy: 0.8398\n",
            "Epoch 7/20\n",
            "13000/13000 [==============================] - 1s 41us/step - loss: 1.7338 - accuracy: 0.8551 - val_loss: 1.7373 - val_accuracy: 0.8505\n",
            "Epoch 8/20\n",
            "13000/13000 [==============================] - 1s 41us/step - loss: 1.7001 - accuracy: 0.8562 - val_loss: 1.7027 - val_accuracy: 0.8506\n",
            "Epoch 9/20\n",
            "13000/13000 [==============================] - 1s 40us/step - loss: 1.6710 - accuracy: 0.8618 - val_loss: 1.6801 - val_accuracy: 0.8513\n",
            "Epoch 10/20\n",
            "13000/13000 [==============================] - 1s 41us/step - loss: 1.6487 - accuracy: 0.8603 - val_loss: 1.6743 - val_accuracy: 0.8492\n",
            "Epoch 11/20\n",
            "13000/13000 [==============================] - 1s 40us/step - loss: 1.6295 - accuracy: 0.8588 - val_loss: 1.6761 - val_accuracy: 0.8471\n",
            "Epoch 12/20\n",
            "13000/13000 [==============================] - 1s 40us/step - loss: 1.6137 - accuracy: 0.8600 - val_loss: 1.6640 - val_accuracy: 0.8454\n",
            "Epoch 13/20\n",
            "13000/13000 [==============================] - 1s 41us/step - loss: 1.5991 - accuracy: 0.8625 - val_loss: 1.6561 - val_accuracy: 0.8353\n",
            "Epoch 14/20\n",
            "13000/13000 [==============================] - 1s 40us/step - loss: 1.5874 - accuracy: 0.8643 - val_loss: 1.6045 - val_accuracy: 0.8538\n",
            "Epoch 15/20\n",
            "13000/13000 [==============================] - 1s 40us/step - loss: 1.5735 - accuracy: 0.8640 - val_loss: 1.5988 - val_accuracy: 0.8546\n",
            "Epoch 16/20\n",
            "13000/13000 [==============================] - 1s 40us/step - loss: 1.5615 - accuracy: 0.8649 - val_loss: 1.5774 - val_accuracy: 0.8564\n",
            "Epoch 17/20\n",
            "13000/13000 [==============================] - 1s 43us/step - loss: 1.5534 - accuracy: 0.8651 - val_loss: 1.5801 - val_accuracy: 0.8562\n",
            "Epoch 18/20\n",
            "13000/13000 [==============================] - 1s 42us/step - loss: 1.5441 - accuracy: 0.8678 - val_loss: 1.5622 - val_accuracy: 0.8648\n",
            "Epoch 19/20\n",
            "13000/13000 [==============================] - 1s 43us/step - loss: 1.5332 - accuracy: 0.8689 - val_loss: 1.5967 - val_accuracy: 0.8487\n",
            "Epoch 20/20\n",
            "13000/13000 [==============================] - 1s 43us/step - loss: 1.5278 - accuracy: 0.8677 - val_loss: 1.5911 - val_accuracy: 0.8435\n",
            "5724/5724 [==============================] - 0s 30us/step\n",
            "Accuracy: 0.8434661030769348\n"
          ],
          "name": "stdout"
        }
      ]
    },
    {
      "cell_type": "markdown",
      "metadata": {
        "colab_type": "text",
        "id": "8olj8yk84Vpx"
      },
      "source": [
        "With He Initialization, Two hidden layer with each layer contains 128 input node, ReLU, RMSProp, with L2\n",
        "regularizer"
      ]
    },
    {
      "cell_type": "code",
      "metadata": {
        "colab_type": "code",
        "id": "EB2LNNNm4Vpy",
        "colab": {
          "base_uri": "https://localhost:8080/",
          "height": 1000
        },
        "outputId": "0ec6c5f8-538b-48d9-f39b-1fe723354532"
      },
      "source": [
        "model = get_model2(hidden_size=128,regularizer=regularizers.l2(0.01))\n",
        "\n",
        "model.compile(loss='categorical_crossentropy', optimizer='rmsprop',\n",
        "              metrics=['accuracy'])\n",
        "\n",
        "model.fit(train_images, train_labels, batch_size=batch_size, epochs=nb_epoch,\n",
        "          verbose=1, validation_data=(test_images, test_labels))\n",
        "\n",
        "score = model.evaluate(test_images, test_labels, verbose=1)\n",
        "\n",
        "print(\"Accuracy:\", score[1])"
      ],
      "execution_count": 12,
      "outputs": [
        {
          "output_type": "stream",
          "text": [
            "Model: \"model_6\"\n",
            "_________________________________________________________________\n",
            "Layer (type)                 Output Shape              Param #   \n",
            "=================================================================\n",
            "input_6 (InputLayer)         (None, 28, 28, 1)         0         \n",
            "_________________________________________________________________\n",
            "flatten_6 (Flatten)          (None, 784)               0         \n",
            "_________________________________________________________________\n",
            "dense_13 (Dense)             (None, 128)               100480    \n",
            "_________________________________________________________________\n",
            "dense_14 (Dense)             (None, 128)               16512     \n",
            "_________________________________________________________________\n",
            "dense_15 (Dense)             (None, 10)                1290      \n",
            "=================================================================\n",
            "Total params: 118,282\n",
            "Trainable params: 118,282\n",
            "Non-trainable params: 0\n",
            "_________________________________________________________________\n",
            "None\n",
            "Train on 13000 samples, validate on 5724 samples\n",
            "Epoch 1/20\n",
            "13000/13000 [==============================] - 1s 50us/step - loss: 3.3362 - accuracy: 0.8562 - val_loss: 1.6798 - val_accuracy: 0.8774\n",
            "Epoch 2/20\n",
            "13000/13000 [==============================] - 1s 40us/step - loss: 1.0938 - accuracy: 0.8930 - val_loss: 0.7730 - val_accuracy: 0.8887\n",
            "Epoch 3/20\n",
            "13000/13000 [==============================] - 1s 42us/step - loss: 0.6590 - accuracy: 0.8972 - val_loss: 0.6586 - val_accuracy: 0.8751\n",
            "Epoch 4/20\n",
            "13000/13000 [==============================] - 1s 40us/step - loss: 0.5649 - accuracy: 0.8984 - val_loss: 0.5735 - val_accuracy: 0.8882\n",
            "Epoch 5/20\n",
            "13000/13000 [==============================] - 1s 41us/step - loss: 0.5250 - accuracy: 0.9025 - val_loss: 0.5480 - val_accuracy: 0.8871\n",
            "Epoch 6/20\n",
            "13000/13000 [==============================] - 1s 41us/step - loss: 0.5009 - accuracy: 0.9046 - val_loss: 0.5593 - val_accuracy: 0.8789\n",
            "Epoch 7/20\n",
            "13000/13000 [==============================] - 1s 43us/step - loss: 0.4860 - accuracy: 0.9071 - val_loss: 0.5174 - val_accuracy: 0.8968\n",
            "Epoch 8/20\n",
            "13000/13000 [==============================] - 1s 41us/step - loss: 0.4751 - accuracy: 0.9095 - val_loss: 0.5004 - val_accuracy: 0.8976\n",
            "Epoch 9/20\n",
            "13000/13000 [==============================] - 1s 42us/step - loss: 0.4622 - accuracy: 0.9112 - val_loss: 0.5097 - val_accuracy: 0.8913\n",
            "Epoch 10/20\n",
            "13000/13000 [==============================] - 1s 42us/step - loss: 0.4505 - accuracy: 0.9114 - val_loss: 0.4974 - val_accuracy: 0.8952\n",
            "Epoch 11/20\n",
            "13000/13000 [==============================] - 1s 43us/step - loss: 0.4408 - accuracy: 0.9131 - val_loss: 0.5156 - val_accuracy: 0.8905\n",
            "Epoch 12/20\n",
            "13000/13000 [==============================] - 1s 41us/step - loss: 0.4353 - accuracy: 0.9143 - val_loss: 0.4897 - val_accuracy: 0.8934\n",
            "Epoch 13/20\n",
            "13000/13000 [==============================] - 1s 42us/step - loss: 0.4261 - accuracy: 0.9182 - val_loss: 0.4955 - val_accuracy: 0.8927\n",
            "Epoch 14/20\n",
            "13000/13000 [==============================] - 1s 42us/step - loss: 0.4194 - accuracy: 0.9162 - val_loss: 0.4948 - val_accuracy: 0.8988\n",
            "Epoch 15/20\n",
            "13000/13000 [==============================] - 1s 39us/step - loss: 0.4139 - accuracy: 0.9197 - val_loss: 0.4825 - val_accuracy: 0.8903\n",
            "Epoch 16/20\n",
            "13000/13000 [==============================] - 0s 38us/step - loss: 0.4098 - accuracy: 0.9184 - val_loss: 0.4731 - val_accuracy: 0.8992\n",
            "Epoch 17/20\n",
            "13000/13000 [==============================] - 1s 39us/step - loss: 0.4048 - accuracy: 0.9209 - val_loss: 0.4731 - val_accuracy: 0.8968\n",
            "Epoch 18/20\n",
            "13000/13000 [==============================] - 1s 39us/step - loss: 0.4022 - accuracy: 0.9205 - val_loss: 0.4745 - val_accuracy: 0.8983\n",
            "Epoch 19/20\n",
            "13000/13000 [==============================] - 1s 39us/step - loss: 0.3961 - accuracy: 0.9218 - val_loss: 0.4861 - val_accuracy: 0.8999\n",
            "Epoch 20/20\n",
            "13000/13000 [==============================] - 0s 38us/step - loss: 0.3925 - accuracy: 0.9214 - val_loss: 0.4824 - val_accuracy: 0.8940\n",
            "5724/5724 [==============================] - 0s 29us/step\n",
            "Accuracy: 0.8939552903175354\n"
          ],
          "name": "stdout"
        }
      ]
    },
    {
      "cell_type": "markdown",
      "metadata": {
        "colab_type": "text",
        "id": "0216p6rE56Xi"
      },
      "source": [
        "With He Initialization, One hidden layer with 32 input node, Swish, RMSProp, without regularizer"
      ]
    },
    {
      "cell_type": "code",
      "metadata": {
        "colab_type": "code",
        "outputId": "af979b23-84cc-467c-dead-79842f6353e3",
        "id": "yhI0_2oT56Xl",
        "colab": {
          "base_uri": "https://localhost:8080/",
          "height": 1000
        }
      },
      "source": [
        "model = get_model(hidden_size=32,activation='swish')\n",
        "\n",
        "model.compile(loss='categorical_crossentropy', optimizer='rmsprop',\n",
        "              metrics=['accuracy'])\n",
        "\n",
        "model.fit(train_images, train_labels, batch_size=batch_size, epochs=nb_epoch,\n",
        "          verbose=1, validation_data=(test_images, test_labels))\n",
        "\n",
        "score = model.evaluate(test_images, test_labels, verbose=1)\n",
        "\n",
        "print(\"Accuracy:\", score[1])\t  "
      ],
      "execution_count": 13,
      "outputs": [
        {
          "output_type": "stream",
          "text": [
            "Model: \"model_7\"\n",
            "_________________________________________________________________\n",
            "Layer (type)                 Output Shape              Param #   \n",
            "=================================================================\n",
            "input_7 (InputLayer)         (None, 28, 28, 1)         0         \n",
            "_________________________________________________________________\n",
            "flatten_7 (Flatten)          (None, 784)               0         \n",
            "_________________________________________________________________\n",
            "dense_16 (Dense)             (None, 32)                25120     \n",
            "_________________________________________________________________\n",
            "dense_17 (Dense)             (None, 10)                330       \n",
            "=================================================================\n",
            "Total params: 25,450\n",
            "Trainable params: 25,450\n",
            "Non-trainable params: 0\n",
            "_________________________________________________________________\n",
            "None\n",
            "Train on 13000 samples, validate on 5724 samples\n",
            "Epoch 1/20\n",
            "13000/13000 [==============================] - 0s 26us/step - loss: 0.6847 - accuracy: 0.8260 - val_loss: 0.4460 - val_accuracy: 0.8753\n",
            "Epoch 2/20\n",
            "13000/13000 [==============================] - 0s 25us/step - loss: 0.3858 - accuracy: 0.8904 - val_loss: 0.3791 - val_accuracy: 0.8896\n",
            "Epoch 3/20\n",
            "13000/13000 [==============================] - 0s 24us/step - loss: 0.3296 - accuracy: 0.9043 - val_loss: 0.3637 - val_accuracy: 0.8924\n",
            "Epoch 4/20\n",
            "13000/13000 [==============================] - 0s 24us/step - loss: 0.2967 - accuracy: 0.9144 - val_loss: 0.3493 - val_accuracy: 0.8980\n",
            "Epoch 5/20\n",
            "13000/13000 [==============================] - 0s 25us/step - loss: 0.2732 - accuracy: 0.9210 - val_loss: 0.3426 - val_accuracy: 0.9004\n",
            "Epoch 6/20\n",
            "13000/13000 [==============================] - 0s 24us/step - loss: 0.2544 - accuracy: 0.9261 - val_loss: 0.3328 - val_accuracy: 0.9022\n",
            "Epoch 7/20\n",
            "13000/13000 [==============================] - 0s 24us/step - loss: 0.2372 - accuracy: 0.9315 - val_loss: 0.3423 - val_accuracy: 0.8985\n",
            "Epoch 8/20\n",
            "13000/13000 [==============================] - 0s 24us/step - loss: 0.2236 - accuracy: 0.9358 - val_loss: 0.3302 - val_accuracy: 0.9018\n",
            "Epoch 9/20\n",
            "13000/13000 [==============================] - 0s 24us/step - loss: 0.2103 - accuracy: 0.9395 - val_loss: 0.3329 - val_accuracy: 0.9006\n",
            "Epoch 10/20\n",
            "13000/13000 [==============================] - 0s 24us/step - loss: 0.1988 - accuracy: 0.9440 - val_loss: 0.3297 - val_accuracy: 0.9050\n",
            "Epoch 11/20\n",
            "13000/13000 [==============================] - 0s 24us/step - loss: 0.1869 - accuracy: 0.9467 - val_loss: 0.3301 - val_accuracy: 0.9053\n",
            "Epoch 12/20\n",
            "13000/13000 [==============================] - 0s 24us/step - loss: 0.1778 - accuracy: 0.9517 - val_loss: 0.3314 - val_accuracy: 0.9058\n",
            "Epoch 13/20\n",
            "13000/13000 [==============================] - 0s 24us/step - loss: 0.1679 - accuracy: 0.9523 - val_loss: 0.3354 - val_accuracy: 0.9029\n",
            "Epoch 14/20\n",
            "13000/13000 [==============================] - 0s 24us/step - loss: 0.1593 - accuracy: 0.9549 - val_loss: 0.3354 - val_accuracy: 0.9046\n",
            "Epoch 15/20\n",
            "13000/13000 [==============================] - 0s 24us/step - loss: 0.1510 - accuracy: 0.9578 - val_loss: 0.3460 - val_accuracy: 0.9032\n",
            "Epoch 16/20\n",
            "13000/13000 [==============================] - 0s 24us/step - loss: 0.1425 - accuracy: 0.9598 - val_loss: 0.3491 - val_accuracy: 0.9030\n",
            "Epoch 17/20\n",
            "13000/13000 [==============================] - 0s 24us/step - loss: 0.1360 - accuracy: 0.9632 - val_loss: 0.3502 - val_accuracy: 0.9032\n",
            "Epoch 18/20\n",
            "13000/13000 [==============================] - 0s 24us/step - loss: 0.1278 - accuracy: 0.9661 - val_loss: 0.3576 - val_accuracy: 0.9016\n",
            "Epoch 19/20\n",
            "13000/13000 [==============================] - 0s 24us/step - loss: 0.1215 - accuracy: 0.9680 - val_loss: 0.3619 - val_accuracy: 0.9030\n",
            "Epoch 20/20\n",
            "13000/13000 [==============================] - 0s 24us/step - loss: 0.1155 - accuracy: 0.9695 - val_loss: 0.3654 - val_accuracy: 0.9032\n",
            "5724/5724 [==============================] - 0s 23us/step\n",
            "Accuracy: 0.9032145142555237\n"
          ],
          "name": "stdout"
        }
      ]
    },
    {
      "cell_type": "markdown",
      "metadata": {
        "colab_type": "text",
        "id": "-m_pB7ak56Xp"
      },
      "source": [
        "With He Initialization, One hidden layer with 32 input node, Swish, RMSProp, with L1 regularizer"
      ]
    },
    {
      "cell_type": "code",
      "metadata": {
        "colab_type": "code",
        "id": "M6oQE6iD56Xp",
        "colab": {
          "base_uri": "https://localhost:8080/",
          "height": 1000
        },
        "outputId": "71a9e0da-3c5d-4482-b1e5-3493cbeac9f6"
      },
      "source": [
        "model = get_model(hidden_size=32,activation='swish',regularizer=regularizers.l1(0.01))\n",
        "\n",
        "model.compile(loss='categorical_crossentropy', optimizer='rmsprop',\n",
        "              metrics=['accuracy'])\n",
        "\n",
        "model.fit(train_images, train_labels, batch_size=batch_size, epochs=nb_epoch,\n",
        "          verbose=1, validation_data=(test_images, test_labels))\n",
        "\n",
        "score = model.evaluate(test_images, test_labels, verbose=1)\n",
        "\n",
        "print(\"Accuracy:\", score[1])"
      ],
      "execution_count": 14,
      "outputs": [
        {
          "output_type": "stream",
          "text": [
            "Model: \"model_8\"\n",
            "_________________________________________________________________\n",
            "Layer (type)                 Output Shape              Param #   \n",
            "=================================================================\n",
            "input_8 (InputLayer)         (None, 28, 28, 1)         0         \n",
            "_________________________________________________________________\n",
            "flatten_8 (Flatten)          (None, 784)               0         \n",
            "_________________________________________________________________\n",
            "dense_18 (Dense)             (None, 32)                25120     \n",
            "_________________________________________________________________\n",
            "dense_19 (Dense)             (None, 10)                330       \n",
            "=================================================================\n",
            "Total params: 25,450\n",
            "Trainable params: 25,450\n",
            "Non-trainable params: 0\n",
            "_________________________________________________________________\n",
            "None\n",
            "Train on 13000 samples, validate on 5724 samples\n",
            "Epoch 1/20\n",
            "13000/13000 [==============================] - 0s 32us/step - loss: 4.7889 - accuracy: 0.7536 - val_loss: 1.8825 - val_accuracy: 0.8075\n",
            "Epoch 2/20\n",
            "13000/13000 [==============================] - 0s 29us/step - loss: 1.7075 - accuracy: 0.8207 - val_loss: 1.5990 - val_accuracy: 0.8263\n",
            "Epoch 3/20\n",
            "13000/13000 [==============================] - 0s 28us/step - loss: 1.4985 - accuracy: 0.8303 - val_loss: 1.4799 - val_accuracy: 0.8256\n",
            "Epoch 4/20\n",
            "13000/13000 [==============================] - 0s 28us/step - loss: 1.3708 - accuracy: 0.8395 - val_loss: 1.3535 - val_accuracy: 0.8363\n",
            "Epoch 5/20\n",
            "13000/13000 [==============================] - 0s 29us/step - loss: 1.2826 - accuracy: 0.8448 - val_loss: 1.2629 - val_accuracy: 0.8408\n",
            "Epoch 6/20\n",
            "13000/13000 [==============================] - 0s 28us/step - loss: 1.2210 - accuracy: 0.8478 - val_loss: 1.2243 - val_accuracy: 0.8424\n",
            "Epoch 7/20\n",
            "13000/13000 [==============================] - 0s 28us/step - loss: 1.1722 - accuracy: 0.8512 - val_loss: 1.1892 - val_accuracy: 0.8442\n",
            "Epoch 8/20\n",
            "13000/13000 [==============================] - 0s 28us/step - loss: 1.1341 - accuracy: 0.8539 - val_loss: 1.1436 - val_accuracy: 0.8456\n",
            "Epoch 9/20\n",
            "13000/13000 [==============================] - 0s 28us/step - loss: 1.1037 - accuracy: 0.8556 - val_loss: 1.1277 - val_accuracy: 0.8452\n",
            "Epoch 10/20\n",
            "13000/13000 [==============================] - 0s 28us/step - loss: 1.0787 - accuracy: 0.8573 - val_loss: 1.0991 - val_accuracy: 0.8478\n",
            "Epoch 11/20\n",
            "13000/13000 [==============================] - 0s 28us/step - loss: 1.0589 - accuracy: 0.8585 - val_loss: 1.1210 - val_accuracy: 0.8449\n",
            "Epoch 12/20\n",
            "13000/13000 [==============================] - 0s 24us/step - loss: 1.0418 - accuracy: 0.8577 - val_loss: 1.0896 - val_accuracy: 0.8363\n",
            "Epoch 13/20\n",
            "13000/13000 [==============================] - 0s 26us/step - loss: 1.0247 - accuracy: 0.8616 - val_loss: 1.0463 - val_accuracy: 0.8519\n",
            "Epoch 14/20\n",
            "13000/13000 [==============================] - 0s 24us/step - loss: 1.0136 - accuracy: 0.8566 - val_loss: 1.0534 - val_accuracy: 0.8545\n",
            "Epoch 15/20\n",
            "13000/13000 [==============================] - 0s 24us/step - loss: 1.0024 - accuracy: 0.8595 - val_loss: 1.0598 - val_accuracy: 0.8459\n",
            "Epoch 16/20\n",
            "13000/13000 [==============================] - 0s 24us/step - loss: 0.9907 - accuracy: 0.8618 - val_loss: 1.0233 - val_accuracy: 0.8517\n",
            "Epoch 17/20\n",
            "13000/13000 [==============================] - 0s 25us/step - loss: 0.9802 - accuracy: 0.8621 - val_loss: 0.9955 - val_accuracy: 0.8592\n",
            "Epoch 18/20\n",
            "13000/13000 [==============================] - 0s 25us/step - loss: 0.9738 - accuracy: 0.8644 - val_loss: 1.0284 - val_accuracy: 0.8517\n",
            "Epoch 19/20\n",
            "13000/13000 [==============================] - 0s 25us/step - loss: 0.9670 - accuracy: 0.8630 - val_loss: 1.0444 - val_accuracy: 0.8321\n",
            "Epoch 20/20\n",
            "13000/13000 [==============================] - 0s 25us/step - loss: 0.9584 - accuracy: 0.8628 - val_loss: 0.9850 - val_accuracy: 0.8625\n",
            "5724/5724 [==============================] - 0s 21us/step\n",
            "Accuracy: 0.8625087141990662\n"
          ],
          "name": "stdout"
        }
      ]
    },
    {
      "cell_type": "markdown",
      "metadata": {
        "colab_type": "text",
        "id": "5nFtO2cm56Xr"
      },
      "source": [
        "With He Initialization, One hidden layer with 32 input node, Swish, RMSProp, with L2 regularizer"
      ]
    },
    {
      "cell_type": "code",
      "metadata": {
        "colab_type": "code",
        "id": "gJcSOpZH56Xr",
        "colab": {
          "base_uri": "https://localhost:8080/",
          "height": 1000
        },
        "outputId": "d2caf233-fd31-4f0f-e9f2-5ea92f1e4ee7"
      },
      "source": [
        "model = get_model(hidden_size=32,activation='swish',regularizer=regularizers.l2(0.01))\n",
        "\n",
        "model.compile(loss='categorical_crossentropy', optimizer='rmsprop',\n",
        "              metrics=['accuracy'])\n",
        "\n",
        "model.fit(train_images, train_labels, batch_size=batch_size, epochs=nb_epoch,\n",
        "          verbose=1, validation_data=(test_images, test_labels))\n",
        "\n",
        "score = model.evaluate(test_images, test_labels, verbose=1)\n",
        "\n",
        "print(\"Accuracy:\", score[1])"
      ],
      "execution_count": 15,
      "outputs": [
        {
          "output_type": "stream",
          "text": [
            "Model: \"model_9\"\n",
            "_________________________________________________________________\n",
            "Layer (type)                 Output Shape              Param #   \n",
            "=================================================================\n",
            "input_9 (InputLayer)         (None, 28, 28, 1)         0         \n",
            "_________________________________________________________________\n",
            "flatten_9 (Flatten)          (None, 784)               0         \n",
            "_________________________________________________________________\n",
            "dense_20 (Dense)             (None, 32)                25120     \n",
            "_________________________________________________________________\n",
            "dense_21 (Dense)             (None, 10)                330       \n",
            "=================================================================\n",
            "Total params: 25,450\n",
            "Trainable params: 25,450\n",
            "Non-trainable params: 0\n",
            "_________________________________________________________________\n",
            "None\n",
            "Train on 13000 samples, validate on 5724 samples\n",
            "Epoch 1/20\n",
            "13000/13000 [==============================] - 0s 30us/step - loss: 1.1989 - accuracy: 0.8179 - val_loss: 0.8012 - val_accuracy: 0.8761\n",
            "Epoch 2/20\n",
            "13000/13000 [==============================] - 0s 25us/step - loss: 0.6669 - accuracy: 0.8848 - val_loss: 0.6052 - val_accuracy: 0.8795\n",
            "Epoch 3/20\n",
            "13000/13000 [==============================] - 0s 23us/step - loss: 0.5443 - accuracy: 0.8932 - val_loss: 0.5358 - val_accuracy: 0.8870\n",
            "Epoch 4/20\n",
            "13000/13000 [==============================] - 0s 24us/step - loss: 0.4961 - accuracy: 0.8982 - val_loss: 0.5079 - val_accuracy: 0.8945\n",
            "Epoch 5/20\n",
            "13000/13000 [==============================] - 0s 24us/step - loss: 0.4711 - accuracy: 0.9014 - val_loss: 0.4982 - val_accuracy: 0.8919\n",
            "Epoch 6/20\n",
            "13000/13000 [==============================] - 0s 24us/step - loss: 0.4570 - accuracy: 0.9042 - val_loss: 0.4804 - val_accuracy: 0.8978\n",
            "Epoch 7/20\n",
            "13000/13000 [==============================] - 0s 24us/step - loss: 0.4430 - accuracy: 0.9082 - val_loss: 0.4770 - val_accuracy: 0.8950\n",
            "Epoch 8/20\n",
            "13000/13000 [==============================] - 0s 25us/step - loss: 0.4351 - accuracy: 0.9059 - val_loss: 0.4691 - val_accuracy: 0.8931\n",
            "Epoch 9/20\n",
            "13000/13000 [==============================] - 0s 25us/step - loss: 0.4267 - accuracy: 0.9082 - val_loss: 0.4683 - val_accuracy: 0.8927\n",
            "Epoch 10/20\n",
            "13000/13000 [==============================] - 0s 24us/step - loss: 0.4206 - accuracy: 0.9089 - val_loss: 0.4609 - val_accuracy: 0.8971\n",
            "Epoch 11/20\n",
            "13000/13000 [==============================] - 0s 25us/step - loss: 0.4150 - accuracy: 0.9118 - val_loss: 0.4566 - val_accuracy: 0.8957\n",
            "Epoch 12/20\n",
            "13000/13000 [==============================] - 0s 24us/step - loss: 0.4089 - accuracy: 0.9132 - val_loss: 0.4454 - val_accuracy: 0.9018\n",
            "Epoch 13/20\n",
            "13000/13000 [==============================] - 0s 24us/step - loss: 0.4045 - accuracy: 0.9127 - val_loss: 0.4659 - val_accuracy: 0.8908\n",
            "Epoch 14/20\n",
            "13000/13000 [==============================] - 0s 25us/step - loss: 0.4017 - accuracy: 0.9135 - val_loss: 0.4581 - val_accuracy: 0.8926\n",
            "Epoch 15/20\n",
            "13000/13000 [==============================] - 0s 25us/step - loss: 0.3981 - accuracy: 0.9131 - val_loss: 0.4604 - val_accuracy: 0.8873\n",
            "Epoch 16/20\n",
            "13000/13000 [==============================] - 0s 24us/step - loss: 0.3927 - accuracy: 0.9163 - val_loss: 0.4480 - val_accuracy: 0.8985\n",
            "Epoch 17/20\n",
            "13000/13000 [==============================] - 0s 24us/step - loss: 0.3901 - accuracy: 0.9158 - val_loss: 0.4529 - val_accuracy: 0.8940\n",
            "Epoch 18/20\n",
            "13000/13000 [==============================] - 0s 24us/step - loss: 0.3879 - accuracy: 0.9160 - val_loss: 0.4538 - val_accuracy: 0.8931\n",
            "Epoch 19/20\n",
            "13000/13000 [==============================] - 0s 24us/step - loss: 0.3851 - accuracy: 0.9160 - val_loss: 0.4535 - val_accuracy: 0.8898\n",
            "Epoch 20/20\n",
            "13000/13000 [==============================] - 0s 24us/step - loss: 0.3831 - accuracy: 0.9146 - val_loss: 0.4381 - val_accuracy: 0.8978\n",
            "5724/5724 [==============================] - 0s 21us/step\n",
            "Accuracy: 0.8977987170219421\n"
          ],
          "name": "stdout"
        }
      ]
    },
    {
      "cell_type": "markdown",
      "metadata": {
        "colab_type": "text",
        "id": "3YmrB4Ep56Xt"
      },
      "source": [
        "With He Initialization, Two hidden layer with each layer contains 128 input node, Swish, RMSProp, without regularizer"
      ]
    },
    {
      "cell_type": "code",
      "metadata": {
        "colab_type": "code",
        "outputId": "7cb117ed-5672-4216-c997-f3fe69728210",
        "id": "nOLarrTa56Xt",
        "colab": {
          "base_uri": "https://localhost:8080/",
          "height": 1000
        }
      },
      "source": [
        "model = get_model2(hidden_size=128,activation='swish')\n",
        "\n",
        "model.compile(loss='categorical_crossentropy', optimizer='rmsprop',\n",
        "              metrics=['accuracy'])\n",
        "\n",
        "model.fit(train_images, train_labels, batch_size=batch_size, epochs=nb_epoch,\n",
        "          verbose=1, validation_data=(test_images, test_labels))\n",
        "\n",
        "score = model.evaluate(test_images, test_labels, verbose=1)\n",
        "\n",
        "print(\"Accuracy:\", score[1])\t  "
      ],
      "execution_count": 16,
      "outputs": [
        {
          "output_type": "stream",
          "text": [
            "Model: \"model_10\"\n",
            "_________________________________________________________________\n",
            "Layer (type)                 Output Shape              Param #   \n",
            "=================================================================\n",
            "input_10 (InputLayer)        (None, 28, 28, 1)         0         \n",
            "_________________________________________________________________\n",
            "flatten_10 (Flatten)         (None, 784)               0         \n",
            "_________________________________________________________________\n",
            "dense_22 (Dense)             (None, 128)               100480    \n",
            "_________________________________________________________________\n",
            "dense_23 (Dense)             (None, 128)               16512     \n",
            "_________________________________________________________________\n",
            "dense_24 (Dense)             (None, 10)                1290      \n",
            "=================================================================\n",
            "Total params: 118,282\n",
            "Trainable params: 118,282\n",
            "Non-trainable params: 0\n",
            "_________________________________________________________________\n",
            "None\n",
            "Train on 13000 samples, validate on 5724 samples\n",
            "Epoch 1/20\n",
            "13000/13000 [==============================] - 1s 50us/step - loss: 0.4926 - accuracy: 0.8572 - val_loss: 0.3633 - val_accuracy: 0.8915\n",
            "Epoch 2/20\n",
            "13000/13000 [==============================] - 1s 43us/step - loss: 0.2932 - accuracy: 0.9119 - val_loss: 0.3203 - val_accuracy: 0.9015\n",
            "Epoch 3/20\n",
            "13000/13000 [==============================] - 1s 44us/step - loss: 0.2356 - accuracy: 0.9279 - val_loss: 0.3130 - val_accuracy: 0.9076\n",
            "Epoch 4/20\n",
            "13000/13000 [==============================] - 1s 41us/step - loss: 0.1953 - accuracy: 0.9408 - val_loss: 0.3007 - val_accuracy: 0.9093\n",
            "Epoch 5/20\n",
            "13000/13000 [==============================] - 1s 42us/step - loss: 0.1598 - accuracy: 0.9505 - val_loss: 0.3107 - val_accuracy: 0.9060\n",
            "Epoch 6/20\n",
            "13000/13000 [==============================] - 1s 42us/step - loss: 0.1297 - accuracy: 0.9599 - val_loss: 0.3100 - val_accuracy: 0.9130\n",
            "Epoch 7/20\n",
            "13000/13000 [==============================] - 1s 42us/step - loss: 0.1049 - accuracy: 0.9675 - val_loss: 0.3338 - val_accuracy: 0.9111\n",
            "Epoch 8/20\n",
            "13000/13000 [==============================] - 1s 42us/step - loss: 0.0869 - accuracy: 0.9743 - val_loss: 0.3485 - val_accuracy: 0.9093\n",
            "Epoch 9/20\n",
            "13000/13000 [==============================] - 1s 42us/step - loss: 0.0693 - accuracy: 0.9796 - val_loss: 0.3452 - val_accuracy: 0.9158\n",
            "Epoch 10/20\n",
            "13000/13000 [==============================] - 1s 42us/step - loss: 0.0570 - accuracy: 0.9825 - val_loss: 0.3748 - val_accuracy: 0.9151\n",
            "Epoch 11/20\n",
            "13000/13000 [==============================] - 1s 42us/step - loss: 0.0493 - accuracy: 0.9855 - val_loss: 0.3840 - val_accuracy: 0.9151\n",
            "Epoch 12/20\n",
            "13000/13000 [==============================] - 1s 42us/step - loss: 0.0406 - accuracy: 0.9882 - val_loss: 0.4215 - val_accuracy: 0.9133\n",
            "Epoch 13/20\n",
            "13000/13000 [==============================] - 1s 42us/step - loss: 0.0336 - accuracy: 0.9903 - val_loss: 0.4192 - val_accuracy: 0.9189\n",
            "Epoch 14/20\n",
            "13000/13000 [==============================] - 1s 43us/step - loss: 0.0309 - accuracy: 0.9904 - val_loss: 0.4798 - val_accuracy: 0.9083\n",
            "Epoch 15/20\n",
            "13000/13000 [==============================] - 1s 42us/step - loss: 0.0283 - accuracy: 0.9910 - val_loss: 0.4521 - val_accuracy: 0.9170\n",
            "Epoch 16/20\n",
            "13000/13000 [==============================] - 1s 41us/step - loss: 0.0218 - accuracy: 0.9938 - val_loss: 0.4824 - val_accuracy: 0.9146\n",
            "Epoch 17/20\n",
            "13000/13000 [==============================] - 1s 42us/step - loss: 0.0225 - accuracy: 0.9934 - val_loss: 0.4803 - val_accuracy: 0.9149\n",
            "Epoch 18/20\n",
            "13000/13000 [==============================] - 1s 42us/step - loss: 0.0188 - accuracy: 0.9939 - val_loss: 0.5282 - val_accuracy: 0.9133\n",
            "Epoch 19/20\n",
            "13000/13000 [==============================] - 1s 42us/step - loss: 0.0184 - accuracy: 0.9947 - val_loss: 0.5405 - val_accuracy: 0.9118\n",
            "Epoch 20/20\n",
            "13000/13000 [==============================] - 1s 42us/step - loss: 0.0159 - accuracy: 0.9957 - val_loss: 0.5551 - val_accuracy: 0.9126\n",
            "5724/5724 [==============================] - 0s 26us/step\n",
            "Accuracy: 0.9126484990119934\n"
          ],
          "name": "stdout"
        }
      ]
    },
    {
      "cell_type": "markdown",
      "metadata": {
        "colab_type": "text",
        "id": "kpldpsbZ56Xv"
      },
      "source": [
        "With He Initialization, Two hidden layer with each layer contains 128 input node, Swish, RMSProp, with L1 regularizer"
      ]
    },
    {
      "cell_type": "code",
      "metadata": {
        "colab_type": "code",
        "id": "N-yd-IRQ56Xv",
        "colab": {
          "base_uri": "https://localhost:8080/",
          "height": 1000
        },
        "outputId": "c7fe92f8-d39c-4e00-cd83-c0549027678c"
      },
      "source": [
        "model = get_model2(hidden_size=128,regularizer=regularizers.l1(0.01))\n",
        "\n",
        "model.compile(loss='categorical_crossentropy', optimizer='rmsprop',\n",
        "              metrics=['accuracy'])\n",
        "\n",
        "model.fit(train_images, train_labels, batch_size=batch_size, epochs=nb_epoch,\n",
        "          verbose=1, validation_data=(test_images, test_labels))\n",
        "\n",
        "score = model.evaluate(test_images, test_labels, verbose=1)\n",
        "\n",
        "print(\"Accuracy:\", score[1])"
      ],
      "execution_count": 17,
      "outputs": [
        {
          "output_type": "stream",
          "text": [
            "Model: \"model_11\"\n",
            "_________________________________________________________________\n",
            "Layer (type)                 Output Shape              Param #   \n",
            "=================================================================\n",
            "input_11 (InputLayer)        (None, 28, 28, 1)         0         \n",
            "_________________________________________________________________\n",
            "flatten_11 (Flatten)         (None, 784)               0         \n",
            "_________________________________________________________________\n",
            "dense_25 (Dense)             (None, 128)               100480    \n",
            "_________________________________________________________________\n",
            "dense_26 (Dense)             (None, 128)               16512     \n",
            "_________________________________________________________________\n",
            "dense_27 (Dense)             (None, 10)                1290      \n",
            "=================================================================\n",
            "Total params: 118,282\n",
            "Trainable params: 118,282\n",
            "Non-trainable params: 0\n",
            "_________________________________________________________________\n",
            "None\n",
            "Train on 13000 samples, validate on 5724 samples\n",
            "Epoch 1/20\n",
            "13000/13000 [==============================] - 1s 55us/step - loss: 22.5851 - accuracy: 0.6888 - val_loss: 6.8651 - val_accuracy: 0.7944\n",
            "Epoch 2/20\n",
            "13000/13000 [==============================] - 1s 48us/step - loss: 3.9351 - accuracy: 0.7712 - val_loss: 2.3115 - val_accuracy: 0.7905\n",
            "Epoch 3/20\n",
            "13000/13000 [==============================] - 1s 49us/step - loss: 2.1496 - accuracy: 0.7930 - val_loss: 2.0612 - val_accuracy: 0.8124\n",
            "Epoch 4/20\n",
            "13000/13000 [==============================] - 1s 48us/step - loss: 1.9785 - accuracy: 0.8271 - val_loss: 1.9338 - val_accuracy: 0.8328\n",
            "Epoch 5/20\n",
            "13000/13000 [==============================] - 1s 49us/step - loss: 1.8754 - accuracy: 0.8408 - val_loss: 1.8517 - val_accuracy: 0.8408\n",
            "Epoch 6/20\n",
            "13000/13000 [==============================] - 1s 48us/step - loss: 1.8107 - accuracy: 0.8503 - val_loss: 1.8089 - val_accuracy: 0.8414\n",
            "Epoch 7/20\n",
            "13000/13000 [==============================] - 1s 48us/step - loss: 1.7631 - accuracy: 0.8539 - val_loss: 1.7644 - val_accuracy: 0.8454\n",
            "Epoch 8/20\n",
            "13000/13000 [==============================] - 1s 49us/step - loss: 1.7251 - accuracy: 0.8559 - val_loss: 1.7506 - val_accuracy: 0.8503\n",
            "Epoch 9/20\n",
            "13000/13000 [==============================] - 1s 48us/step - loss: 1.6971 - accuracy: 0.8584 - val_loss: 1.7118 - val_accuracy: 0.8459\n",
            "Epoch 10/20\n",
            "13000/13000 [==============================] - 1s 50us/step - loss: 1.6693 - accuracy: 0.8604 - val_loss: 1.6741 - val_accuracy: 0.8578\n",
            "Epoch 11/20\n",
            "13000/13000 [==============================] - 1s 50us/step - loss: 1.6467 - accuracy: 0.8637 - val_loss: 1.6589 - val_accuracy: 0.8587\n",
            "Epoch 12/20\n",
            "13000/13000 [==============================] - 1s 48us/step - loss: 1.6267 - accuracy: 0.8663 - val_loss: 1.6486 - val_accuracy: 0.8580\n",
            "Epoch 13/20\n",
            "13000/13000 [==============================] - 1s 50us/step - loss: 1.6087 - accuracy: 0.8652 - val_loss: 1.6449 - val_accuracy: 0.8541\n",
            "Epoch 14/20\n",
            "13000/13000 [==============================] - 1s 49us/step - loss: 1.5917 - accuracy: 0.8662 - val_loss: 1.5978 - val_accuracy: 0.8587\n",
            "Epoch 15/20\n",
            "13000/13000 [==============================] - 1s 49us/step - loss: 1.5781 - accuracy: 0.8662 - val_loss: 1.5931 - val_accuracy: 0.8588\n",
            "Epoch 16/20\n",
            "13000/13000 [==============================] - 1s 48us/step - loss: 1.5650 - accuracy: 0.8685 - val_loss: 1.5855 - val_accuracy: 0.8590\n",
            "Epoch 17/20\n",
            "13000/13000 [==============================] - 1s 48us/step - loss: 1.5543 - accuracy: 0.8699 - val_loss: 1.5835 - val_accuracy: 0.8581\n",
            "Epoch 18/20\n",
            "13000/13000 [==============================] - 1s 49us/step - loss: 1.5439 - accuracy: 0.8677 - val_loss: 1.5482 - val_accuracy: 0.8674\n",
            "Epoch 19/20\n",
            "13000/13000 [==============================] - 1s 48us/step - loss: 1.5303 - accuracy: 0.8702 - val_loss: 1.5583 - val_accuracy: 0.8559\n",
            "Epoch 20/20\n",
            "13000/13000 [==============================] - 1s 50us/step - loss: 1.5243 - accuracy: 0.8711 - val_loss: 1.5374 - val_accuracy: 0.8646\n",
            "5724/5724 [==============================] - 0s 28us/step\n",
            "Accuracy: 0.864605188369751\n"
          ],
          "name": "stdout"
        }
      ]
    },
    {
      "cell_type": "markdown",
      "metadata": {
        "colab_type": "text",
        "id": "EI_ugAky56Xx"
      },
      "source": [
        "With He Initialization, Two hidden layer with each layer contains 128 input node, Swish, RMSProp, with L2\n",
        "regularizer"
      ]
    },
    {
      "cell_type": "code",
      "metadata": {
        "colab_type": "code",
        "id": "E30bQUIi56Xy",
        "colab": {
          "base_uri": "https://localhost:8080/",
          "height": 1000
        },
        "outputId": "e1e6ba98-d51f-4e2c-b5e8-e4b458e24f4b"
      },
      "source": [
        "model = get_model2(hidden_size=128,regularizer=regularizers.l2(0.01))\n",
        "\n",
        "model.compile(loss='categorical_crossentropy', optimizer='rmsprop',\n",
        "              metrics=['accuracy'])\n",
        "\n",
        "model.fit(train_images, train_labels, batch_size=batch_size, epochs=nb_epoch,\n",
        "          verbose=1, validation_data=(test_images, test_labels))\n",
        "\n",
        "score = model.evaluate(test_images, test_labels, verbose=1)\n",
        "\n",
        "print(\"Accuracy:\", score[1])"
      ],
      "execution_count": 18,
      "outputs": [
        {
          "output_type": "stream",
          "text": [
            "Model: \"model_12\"\n",
            "_________________________________________________________________\n",
            "Layer (type)                 Output Shape              Param #   \n",
            "=================================================================\n",
            "input_12 (InputLayer)        (None, 28, 28, 1)         0         \n",
            "_________________________________________________________________\n",
            "flatten_12 (Flatten)         (None, 784)               0         \n",
            "_________________________________________________________________\n",
            "dense_28 (Dense)             (None, 128)               100480    \n",
            "_________________________________________________________________\n",
            "dense_29 (Dense)             (None, 128)               16512     \n",
            "_________________________________________________________________\n",
            "dense_30 (Dense)             (None, 10)                1290      \n",
            "=================================================================\n",
            "Total params: 118,282\n",
            "Trainable params: 118,282\n",
            "Non-trainable params: 0\n",
            "_________________________________________________________________\n",
            "None\n",
            "Train on 13000 samples, validate on 5724 samples\n",
            "Epoch 1/20\n",
            "13000/13000 [==============================] - 1s 54us/step - loss: 3.3622 - accuracy: 0.8476 - val_loss: 1.6821 - val_accuracy: 0.8795\n",
            "Epoch 2/20\n",
            "13000/13000 [==============================] - 1s 45us/step - loss: 1.0985 - accuracy: 0.8912 - val_loss: 0.7883 - val_accuracy: 0.8926\n",
            "Epoch 3/20\n",
            "13000/13000 [==============================] - 1s 45us/step - loss: 0.6566 - accuracy: 0.8973 - val_loss: 0.6203 - val_accuracy: 0.8850\n",
            "Epoch 4/20\n",
            "13000/13000 [==============================] - 1s 45us/step - loss: 0.5619 - accuracy: 0.8972 - val_loss: 0.5643 - val_accuracy: 0.8940\n",
            "Epoch 5/20\n",
            "13000/13000 [==============================] - 1s 45us/step - loss: 0.5237 - accuracy: 0.9028 - val_loss: 0.5629 - val_accuracy: 0.8859\n",
            "Epoch 6/20\n",
            "13000/13000 [==============================] - 1s 44us/step - loss: 0.5009 - accuracy: 0.9039 - val_loss: 0.5524 - val_accuracy: 0.8857\n",
            "Epoch 7/20\n",
            "13000/13000 [==============================] - 1s 45us/step - loss: 0.4862 - accuracy: 0.9085 - val_loss: 0.5299 - val_accuracy: 0.8863\n",
            "Epoch 8/20\n",
            "13000/13000 [==============================] - 1s 46us/step - loss: 0.4725 - accuracy: 0.9078 - val_loss: 0.5063 - val_accuracy: 0.8964\n",
            "Epoch 9/20\n",
            "13000/13000 [==============================] - 1s 45us/step - loss: 0.4609 - accuracy: 0.9117 - val_loss: 0.4956 - val_accuracy: 0.8980\n",
            "Epoch 10/20\n",
            "13000/13000 [==============================] - 1s 46us/step - loss: 0.4521 - accuracy: 0.9127 - val_loss: 0.5134 - val_accuracy: 0.8868\n",
            "Epoch 11/20\n",
            "13000/13000 [==============================] - 1s 44us/step - loss: 0.4424 - accuracy: 0.9136 - val_loss: 0.4845 - val_accuracy: 0.8990\n",
            "Epoch 12/20\n",
            "13000/13000 [==============================] - 1s 46us/step - loss: 0.4344 - accuracy: 0.9152 - val_loss: 0.5001 - val_accuracy: 0.8940\n",
            "Epoch 13/20\n",
            "13000/13000 [==============================] - 1s 45us/step - loss: 0.4258 - accuracy: 0.9158 - val_loss: 0.4726 - val_accuracy: 0.9016\n",
            "Epoch 14/20\n",
            "13000/13000 [==============================] - 1s 46us/step - loss: 0.4211 - accuracy: 0.9179 - val_loss: 0.4777 - val_accuracy: 0.8983\n",
            "Epoch 15/20\n",
            "13000/13000 [==============================] - 1s 46us/step - loss: 0.4168 - accuracy: 0.9195 - val_loss: 0.4764 - val_accuracy: 0.8961\n",
            "Epoch 16/20\n",
            "13000/13000 [==============================] - 1s 45us/step - loss: 0.4110 - accuracy: 0.9208 - val_loss: 0.4751 - val_accuracy: 0.8988\n",
            "Epoch 17/20\n",
            "13000/13000 [==============================] - 1s 45us/step - loss: 0.4061 - accuracy: 0.9208 - val_loss: 0.5011 - val_accuracy: 0.8887\n",
            "Epoch 18/20\n",
            "13000/13000 [==============================] - 1s 45us/step - loss: 0.4014 - accuracy: 0.9219 - val_loss: 0.4716 - val_accuracy: 0.8962\n",
            "Epoch 19/20\n",
            "13000/13000 [==============================] - 1s 45us/step - loss: 0.3949 - accuracy: 0.9249 - val_loss: 0.4663 - val_accuracy: 0.8969\n",
            "Epoch 20/20\n",
            "13000/13000 [==============================] - 1s 44us/step - loss: 0.3928 - accuracy: 0.9237 - val_loss: 0.4697 - val_accuracy: 0.8962\n",
            "5724/5724 [==============================] - 0s 27us/step\n",
            "Accuracy: 0.8962264060974121\n"
          ],
          "name": "stdout"
        }
      ]
    },
    {
      "cell_type": "markdown",
      "metadata": {
        "id": "F29jFmyHkoHo",
        "colab_type": "text"
      },
      "source": [
        "To save the model"
      ]
    },
    {
      "cell_type": "code",
      "metadata": {
        "id": "GzllSm3SS292",
        "colab_type": "code",
        "colab": {}
      },
      "source": [
        "model.save(\"model.h5\")"
      ],
      "execution_count": 0,
      "outputs": []
    },
    {
      "cell_type": "markdown",
      "metadata": {
        "id": "R-lghkijkrzP",
        "colab_type": "text"
      },
      "source": [
        "To load the model and run inference"
      ]
    },
    {
      "cell_type": "code",
      "metadata": {
        "id": "1l6x0MXsUz1a",
        "colab_type": "code",
        "outputId": "5fed9fab-2531-4b0b-f277-5fd576ef1937",
        "colab": {
          "base_uri": "https://localhost:8080/",
          "height": 340
        }
      },
      "source": [
        "# load and evaluate a saved model\n",
        "from numpy import loadtxt\n",
        "from keras.models import load_model\n",
        "\n",
        "# load model\n",
        "model = load_model('model.h5')\n",
        "# summarize model.\n",
        "model.summary()\n",
        "# load dataset\n",
        "_,_,test_images, test_labels  = load_data()\n",
        "\n",
        "# evaluate the model\n",
        "score = model.evaluate(test_images, test_labels, verbose=0)\n",
        "print(\"%s: %.2f%%\" % (model.metrics_names[1], score[1]*100))"
      ],
      "execution_count": 20,
      "outputs": [
        {
          "output_type": "stream",
          "text": [
            "Model: \"model_12\"\n",
            "_________________________________________________________________\n",
            "Layer (type)                 Output Shape              Param #   \n",
            "=================================================================\n",
            "input_12 (InputLayer)        (None, 28, 28, 1)         0         \n",
            "_________________________________________________________________\n",
            "flatten_12 (Flatten)         (None, 784)               0         \n",
            "_________________________________________________________________\n",
            "dense_28 (Dense)             (None, 128)               100480    \n",
            "_________________________________________________________________\n",
            "dense_29 (Dense)             (None, 128)               16512     \n",
            "_________________________________________________________________\n",
            "dense_30 (Dense)             (None, 10)                1290      \n",
            "=================================================================\n",
            "Total params: 118,282\n",
            "Trainable params: 118,282\n",
            "Non-trainable params: 0\n",
            "_________________________________________________________________\n",
            "accuracy: 91.84%\n"
          ],
          "name": "stdout"
        }
      ]
    },
    {
      "cell_type": "code",
      "metadata": {
        "id": "z9X1lCeDUwEN",
        "colab_type": "code",
        "colab": {}
      },
      "source": [
        "# make a prediction for a new image.\n",
        "from keras.preprocessing.image import load_img\n",
        "from keras.preprocessing.image import img_to_array\n",
        "from keras.models import load_model\n",
        "\n",
        "# load and prepare the image\n",
        "def load_image(filename):\n",
        "\t# load the image\n",
        "\timg = load_img(filename, grayscale=True, target_size=(28, 28))\n",
        "\t# convert to array\n",
        "\timg = img_to_array(img)\n",
        "\t# reshape into a single sample with 1 channel\n",
        "\timg = img.reshape(1, 28, 28, 1)\n",
        "\t# prepare pixel data\n",
        "\timg = img.astype('float32')\n",
        "\timg = img / 255.0\n",
        "\treturn img\n",
        "\n",
        "# load an image and predict the class\n",
        "def run_example():\n",
        "\t# load the image\n",
        "\timg = load_image('sample_image.png')\n",
        "\t# load model\n",
        "\tmodel = load_model('model.h5')\n",
        "\t# predict the class\n",
        "\tresult = model.predict_classes(img)\n",
        "\tprint(result[0])\n",
        "\n",
        "# entry point, run the example\n",
        "#run_example()"
      ],
      "execution_count": 0,
      "outputs": []
    }
  ]
}